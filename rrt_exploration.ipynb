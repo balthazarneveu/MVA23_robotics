{
 "cells": [
  {
   "cell_type": "code",
   "execution_count": 87,
   "metadata": {},
   "outputs": [],
   "source": [
    "%load_ext autoreload\n",
    "%autoreload 2"
   ]
  },
  {
   "cell_type": "code",
   "execution_count": 1,
   "metadata": {},
   "outputs": [],
   "source": [
    "from run import *\n",
    "import time\n",
    "from utils.meshcat_viewer_wrapper import MeshcatVisualizer\n",
    "viz = None"
   ]
  },
  {
   "cell_type": "code",
   "execution_count": 4,
   "metadata": {},
   "outputs": [],
   "source": [
    "reduced=True\n",
    "if reduced:\n",
    "    q_i= np.deg2rad([-90., 40.]) #EASY\n",
    "    q_i= np.deg2rad([-170., 0.]) #NOT EASY\n",
    "    q_g= np.deg2rad([-79., 64.])\n",
    "else:\n",
    "    q_i = np.array([1., -1.5, 2.1, -.5, -.5, 0])\n",
    "    q_g = np.array([3., -1., 1, -.5, -.5, 0])\n",
    "robot = initialize_problem(reduced=reduced)\n",
    "if viz is None:\n",
    "    viz = MeshcatVisualizer(robot)\n",
    "add_special_locations(\n",
    "    robot,\n",
    "    viz,\n",
    "    [\n",
    "        (q_i, \"initial\", \"red\"),\n",
    "        (q_g, \"goal\", \"green\")\n",
    "    ]\n",
    ")\n",
    "system = solve(robot, viz, q_i, q_g, reduced=reduced)\n",
    "\n"
   ]
  },
  {
   "cell_type": "code",
   "execution_count": 90,
   "metadata": {},
   "outputs": [],
   "source": [
    "eps_final = .1\n",
    "def validation(key):\n",
    "    vec = robot.framePlacement(key, 22).translation - robot.framePlacement(q_g, 22).translation\n",
    "    return (float(np.linalg.norm(vec)) < eps_final)"
   ]
  },
  {
   "cell_type": "code",
   "execution_count": 167,
   "metadata": {},
   "outputs": [
    {
     "name": "stderr",
     "output_type": "stream",
     "text": [
      " 62%|██████▏   | 37/60 [00:03<00:02, 11.35it/s]"
     ]
    },
    {
     "name": "stdout",
     "output_type": "stream",
     "text": [
      "DONE! Bridge found between [-1.65409624 -2.40669883] [-2.03636435  2.93358738]\n",
      "[[-2.96705973  0.        ]\n",
      " [-2.92680877 -0.49837723]\n",
      " [-2.63520396 -0.90453807]\n",
      " [-2.33466896 -1.30413626]\n",
      " [-2.0137542  -1.68755994]\n",
      " [-1.56804908 -1.91415859]\n",
      " [-1.65409624 -2.40669883]] [[-1.37881011  1.11701072]]\n"
     ]
    },
    {
     "name": "stderr",
     "output_type": "stream",
     "text": [
      "\n"
     ]
    }
   ],
   "source": [
    "from birrt import BiRRT\n",
    "system.reset()\n",
    "birrt = BiRRT(\n",
    "    system,\n",
    "    l_min=0.2,\n",
    "    l_max=0.5,\n",
    "    steer_delta=0.1,\n",
    "    iter_max=60\n",
    ")\n",
    "birrt.solve(q_i, q_g)\n",
    "final_path = birrt.get_path()\n",
    "system.display_motion(final_path)"
   ]
  },
  {
   "cell_type": "code",
   "execution_count": 168,
   "metadata": {},
   "outputs": [
    {
     "data": {
      "text/plain": [
       "array([-1.37881011,  1.11701072])"
      ]
     },
     "execution_count": 168,
     "metadata": {},
     "output_type": "execute_result"
    }
   ],
   "source": [
    "system.display_motion(final_path)"
   ]
  },
  {
   "cell_type": "code",
   "execution_count": 124,
   "metadata": {},
   "outputs": [
    {
     "name": "stderr",
     "output_type": "stream",
     "text": [
      "  0%|          | 0/1000000 [00:00<?, ?it/s]"
     ]
    },
    {
     "name": "stderr",
     "output_type": "stream",
     "text": [
      "  0%|          | 400/1000000 [00:15<10:29:46, 26.45it/s]\n"
     ]
    }
   ],
   "source": [
    "system.reset()\n",
    "rrt = RRT(\n",
    "    system,\n",
    "    N_bias=20,\n",
    "    l_min=0.2,\n",
    "    l_max=0.5,\n",
    "    steer_delta=0.1,\n",
    ")\n",
    "\n",
    "\n",
    "rrt.solve(q_i, validation, qg=q_g)\n",
    "final_path = rrt.get_path(q_g)\n",
    "for q in final_path:\n",
    "    assert not(system.is_colliding(q))"
   ]
  },
  {
   "cell_type": "code",
   "execution_count": 125,
   "metadata": {},
   "outputs": [],
   "source": [
    "system.display_motion(final_path)"
   ]
  },
  {
   "cell_type": "markdown",
   "metadata": {},
   "source": [
    "# Visualization of the RRT trajectory in the configuration space"
   ]
  },
  {
   "cell_type": "code",
   "execution_count": null,
   "metadata": {},
   "outputs": [],
   "source": [
    "# Sample the collision grid in a uniform fashion, this could take a while\n",
    "step_size = 0.1\n",
    "q1_values = np.arange(-np.pi, np.pi, step_size)\n",
    "q2_values = np.arange(-np.pi, np.pi, step_size)[::-1] # +pi is at the top of the image\n",
    "\n",
    "# Initialize a matrix to store the results\n",
    "results = np.zeros((len(q1_values), len(q2_values)))\n",
    "\n",
    "# Evaluate collisionDistance for each point in the grid\n",
    "for i, q2 in enumerate(q2_values):\n",
    "    for j, q1 in enumerate(q1_values):\n",
    "        results[i, j] = system.is_colliding(np.array([q1, q2]))"
   ]
  },
  {
   "cell_type": "code",
   "execution_count": 86,
   "metadata": {},
   "outputs": [
    {
     "data": {
      "text/plain": [
       "(-3.141592653589793, 3.141592653589793, -3.141592653589793, 3.141592653589793)"
      ]
     },
     "execution_count": 86,
     "metadata": {},
     "output_type": "execute_result"
    },
    {
     "data": {
      "image/png": "[encoded data removed]",
      "text/plain": [
       "<Figure size 640x480 with 1 Axes>"
      ]
     },
     "metadata": {},
     "output_type": "display_data"
    }
   ],
   "source": [
    "import matplotlib.pyplot as plt\n",
    "final_path = rrt.get_path(q_g).copy()\n",
    "final_path[final_path > np.pi] = 2 * np.pi - final_path[final_path > np.pi]\n",
    "final_path[final_path < -np.pi] = 2 * np.pi + final_path[final_path < -np.pi]\n",
    "\n",
    "plt.plot(final_path[:, 0], final_path[:, 1], \"c-+\", alpha=0.9, label=\"rrt\")\n",
    "plt.plot(final_path[-1, 0], final_path[-1, 1], \"go\", label=\"goal\")\n",
    "plt.plot(final_path[0, 0], final_path[0, 1], \"ro\", label=\"start\")\n",
    "plt.grid()\n",
    "plt.legend()\n",
    "obstacle_viz = 1-results.copy()\n",
    "# obstacle_viz[obstacle_viz==0.] = np.nan\n",
    "plt.imshow(obstacle_viz, extent=[-np.pi, np.pi, -np.pi, np.pi])\n",
    "plt.xlim(-np.pi, np.pi)\n",
    "plt.ylim(-np.pi, np.pi)\n",
    "plt.axis(\"equal\")"
   ]
  },
  {
   "cell_type": "code",
   "execution_count": null,
   "metadata": {},
   "outputs": [],
   "source": []
  }
 ],
 "metadata": {
  "kernelspec": {
   "display_name": "robotics",
   "language": "python",
   "name": "python3"
  },
  "language_info": {
   "codemirror_mode": {
    "name": "ipython",
    "version": 3
   },
   "file_extension": ".py",
   "mimetype": "text/x-python",
   "name": "python",
   "nbconvert_exporter": "python",
   "pygments_lexer": "ipython3",
   "version": "3.10.12"
  }
 },
 "nbformat": 4,
 "nbformat_minor": 2
}
