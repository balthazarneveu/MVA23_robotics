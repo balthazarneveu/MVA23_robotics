{
 "cells": [
  {
   "cell_type": "code",
   "execution_count": 4,
   "metadata": {},
   "outputs": [
    {
     "name": "stdout",
     "output_type": "stream",
     "text": [
      "The autoreload extension is already loaded. To reload it, use:\n",
      "  %reload_ext autoreload\n"
     ]
    }
   ],
   "source": [
    "%load_ext autoreload\n",
    "%autoreload 2\n",
    "\n",
    "from run import *\n",
    "import time\n",
    "from utils.meshcat_viewer_wrapper import MeshcatVisualizer\n",
    "viz = None\n",
    "reduced=True\n",
    "# reduced=False"
   ]
  },
  {
   "cell_type": "code",
   "execution_count": 5,
   "metadata": {},
   "outputs": [
    {
     "name": "stdout",
     "output_type": "stream",
     "text": [
      "You can open the visualizer by visiting the following URL:\n",
      "http://127.0.0.1:7004/static/\n"
     ]
    }
   ],
   "source": [
    "if reduced:\n",
    "    q_i= np.deg2rad([-90., 40.]) #EASY\n",
    "    q_i= np.deg2rad([-170., 0.]) #NOT EASY\n",
    "    q_g= np.deg2rad([-79., 64.])\n",
    "else:\n",
    "    q_i = np.array([1., -1.5, 2.1, -.5, -.5, 0])\n",
    "    q_g = np.array([3., -1., 1, -.5, -.5, 0])\n",
    "robot = initialize_problem(reduced=reduced)\n",
    "if viz is None:\n",
    "    viz = MeshcatVisualizer(robot)\n",
    "add_special_locations(\n",
    "    robot,\n",
    "    viz,\n",
    "    [\n",
    "        (q_i, \"initial\", \"red\"),\n",
    "        (q_g, \"goal\", \"green\")\n",
    "    ]\n",
    ")\n",
    "system = solve(robot, viz, q_i, q_g, reduced=reduced)\n",
    "\n"
   ]
  },
  {
   "cell_type": "code",
   "execution_count": 6,
   "metadata": {},
   "outputs": [],
   "source": []
  },
  {
   "cell_type": "code",
   "execution_count": 52,
   "metadata": {},
   "outputs": [
    {
     "name": "stderr",
     "output_type": "stream",
     "text": [
      " 13%|█▎        | 13/100 [00:04<00:30,  2.86it/s]"
     ]
    },
    {
     "name": "stdout",
     "output_type": "stream",
     "text": [
      "DONE! backward Bridge found between [-3.00035529  2.83192013] [-3.02525176  1.55268593]\n"
     ]
    },
    {
     "name": "stderr",
     "output_type": "stream",
     "text": [
      "\n"
     ]
    },
    {
     "data": {
      "application/vnd.jupyter.widget-view+json": {
       "model_id": "e57f2d142a9a4c3ea43a9e209e2e72d5",
       "version_major": 2,
       "version_minor": 0
      },
      "text/plain": [
       "interactive(children=(IntSlider(value=0, description='step', max=12), Output()), _dom_classes=('widget-interac…"
      ]
     },
     "metadata": {},
     "output_type": "display_data"
    }
   ],
   "source": [
    "from birrt import BiRRT\n",
    "system.reset()\n",
    "birrt = BiRRT(\n",
    "    system,\n",
    "    l_min=0.2,\n",
    "    l_max=0.5,\n",
    "    steer_delta=0.1,\n",
    "    iter_max=100\n",
    ")\n",
    "success = birrt.solve(q_i, q_g)\n",
    "final_path = birrt.get_path()\n",
    "if success:\n",
    "    final_path = birrt.get_path()\n",
    "    system.display_motion(final_path)\n",
    "    from ipywidgets import interact, IntSlider\n",
    "    def show_step(step=0):\n",
    "        viz.display(final_path[step])\n",
    "    interact(show_step, step=IntSlider(0, min=0, max=len(final_path)-1));\n",
    "else:\n",
    "    print(\"FAIL\")\n",
    "    print(birrt.get_path())\n",
    "    # final_path = None"
   ]
  },
  {
   "cell_type": "code",
   "execution_count": 24,
   "metadata": {},
   "outputs": [
    {
     "ename": "TypeError",
     "evalue": "object of type 'NoneType' has no len()",
     "output_type": "error",
     "traceback": [
      "\u001b[0;31m---------------------------------------------------------------------------\u001b[0m",
      "\u001b[0;31mTypeError\u001b[0m                                 Traceback (most recent call last)",
      "\u001b[1;32m/Data/code/MVA23_robotics/rrt_exploration.ipynb Cell 5\u001b[0m line \u001b[0;36m1\n\u001b[0;32m----> <a href='vscode-notebook-cell:/Data/code/MVA23_robotics/rrt_exploration.ipynb#X24sZmlsZQ%3D%3D?line=0'>1</a>\u001b[0m system\u001b[39m.\u001b[39;49mdisplay_motion(final_path)\n",
      "File \u001b[0;32m/Data/code/MVA23_robotics/system.py:153\u001b[0m, in \u001b[0;36mSystem.display_motion\u001b[0;34m(self, qs, step)\u001b[0m\n\u001b[1;32m    151\u001b[0m \u001b[39mdef\u001b[39;00m \u001b[39mdisplay_motion\u001b[39m(\u001b[39mself\u001b[39m, qs: np\u001b[39m.\u001b[39mndarray, step\u001b[39m=\u001b[39m\u001b[39m1e-1\u001b[39m):\n\u001b[1;32m    152\u001b[0m     \u001b[39m# Given a point path display the smooth movement\u001b[39;00m\n\u001b[0;32m--> 153\u001b[0m     \u001b[39mfor\u001b[39;00m i \u001b[39min\u001b[39;00m \u001b[39mrange\u001b[39m(\u001b[39mlen\u001b[39;49m(qs) \u001b[39m-\u001b[39m \u001b[39m1\u001b[39m):\n\u001b[1;32m    154\u001b[0m         \u001b[39mfor\u001b[39;00m q \u001b[39min\u001b[39;00m \u001b[39mself\u001b[39m\u001b[39m.\u001b[39mget_path(qs[i], qs[i\u001b[39m+\u001b[39m\u001b[39m1\u001b[39m])[:\u001b[39m-\u001b[39m\u001b[39m1\u001b[39m]:\n\u001b[1;32m    155\u001b[0m             \u001b[39mself\u001b[39m\u001b[39m.\u001b[39mviz\u001b[39m.\u001b[39mdisplay(q)\n",
      "\u001b[0;31mTypeError\u001b[0m: object of type 'NoneType' has no len()"
     ]
    }
   ],
   "source": [
    "system.display_motion(final_path)"
   ]
  },
  {
   "cell_type": "code",
   "execution_count": null,
   "metadata": {},
   "outputs": [],
   "source": [
    "from ipywidgets import interact, IntSlider\n",
    "def show_step(step=0):\n",
    "    viz.display(final_path[step])\n",
    "interact(show_step, step=IntSlider(0, min=0, max=len(final_path)-1));"
   ]
  },
  {
   "cell_type": "code",
   "execution_count": null,
   "metadata": {},
   "outputs": [],
   "source": [
    "eps_final = .1\n",
    "def validation(key):\n",
    "    vec = robot.framePlacement(key, 22).translation - robot.framePlacement(q_g, 22).translation\n",
    "    return (float(np.linalg.norm(vec)) < eps_final)\n",
    "\n",
    "system.reset()\n",
    "rrt = RRT(\n",
    "    system,\n",
    "    N_bias=20,\n",
    "    l_min=0.2,\n",
    "    l_max=0.5,\n",
    "    steer_delta=0.1,\n",
    ")\n",
    "\n",
    "\n",
    "rrt.solve(q_i, validation, qg=q_g)\n",
    "final_path = rrt.get_path(q_g)\n",
    "for q in final_path:\n",
    "    assert not(system.is_colliding(q))"
   ]
  },
  {
   "cell_type": "code",
   "execution_count": null,
   "metadata": {},
   "outputs": [],
   "source": [
    "system.display_motion(final_path)"
   ]
  },
  {
   "cell_type": "markdown",
   "metadata": {},
   "source": [
    "# Visualization of the RRT trajectory in the configuration space"
   ]
  },
  {
   "cell_type": "code",
   "execution_count": 42,
   "metadata": {},
   "outputs": [],
   "source": [
    "# Sample the collision grid in a uniform fashion, this could take a while\n",
    "step_size = 0.1\n",
    "q1_values = np.arange(-np.pi, np.pi, step_size)\n",
    "q2_values = np.arange(-np.pi, np.pi, step_size)[::-1] # +pi is at the top of the image\n",
    "\n",
    "# Initialize a matrix to store the results\n",
    "results = np.zeros((len(q1_values), len(q2_values)))\n",
    "\n",
    "# Evaluate collisionDistance for each point in the grid\n",
    "for i, q2 in enumerate(q2_values):\n",
    "    for j, q1 in enumerate(q1_values):\n",
    "        results[i, j] = system.is_colliding(np.array([q1, q2]))"
   ]
  },
  {
   "cell_type": "code",
   "execution_count": 50,
   "metadata": {},
   "outputs": [
    {
     "data": {
      "text/plain": [
       "(-3.517286512498599, 3.7623267830717047, -3.141592653589793, 3.141592653589793)"
      ]
     },
     "execution_count": 50,
     "metadata": {},
     "output_type": "execute_result"
    },
    {
     "data": {
      "image/png": "[encoded data removed]",
      "text/plain": [
       "<Figure size 640x480 with 1 Axes>"
      ]
     },
     "metadata": {},
     "output_type": "display_data"
    }
   ],
   "source": [
    "import matplotlib.pyplot as plt\n",
    "disp_path = final_path.copy()\n",
    "disp_path[disp_path > np.pi] = 2 * np.pi - disp_path[disp_path > np.pi]\n",
    "disp_path[disp_path < -np.pi] = 2 * np.pi + disp_path[disp_path < -np.pi]\n",
    "\n",
    "plt.plot(final_path[:, 0], final_path[:, 1], \"c-+\", alpha=0.9, label=\"rrt\")\n",
    "plt.plot(final_path[-1, 0], final_path[-1, 1], \"go\", label=\"goal\")\n",
    "plt.plot(final_path[0, 0], final_path[0, 1], \"ro\", label=\"start\")\n",
    "plt.grid()\n",
    "plt.legend()\n",
    "obstacle_viz = 1-results.copy()\n",
    "# obstacle_viz[obstacle_viz==0.] = np.nan\n",
    "plt.imshow(obstacle_viz, extent=[-np.pi, np.pi, -np.pi, np.pi])\n",
    "plt.xlim(-np.pi, np.pi)\n",
    "plt.ylim(-np.pi, np.pi)\n",
    "plt.axis(\"equal\")"
   ]
  },
  {
   "cell_type": "code",
   "execution_count": null,
   "metadata": {},
   "outputs": [],
   "source": []
  }
 ],
 "metadata": {
  "kernelspec": {
   "display_name": "robotics",
   "language": "python",
   "name": "python3"
  },
  "language_info": {
   "codemirror_mode": {
    "name": "ipython",
    "version": 3
   },
   "file_extension": ".py",
   "mimetype": "text/x-python",
   "name": "python",
   "nbconvert_exporter": "python",
   "pygments_lexer": "ipython3",
   "version": "3.10.12"
  }
 },
 "nbformat": 4,
 "nbformat_minor": 2
}
