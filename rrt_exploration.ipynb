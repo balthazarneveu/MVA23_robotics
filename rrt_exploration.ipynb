{
 "cells": [
  {
   "cell_type": "code",
   "execution_count": 2,
   "metadata": {},
   "outputs": [
    {
     "name": "stdout",
     "output_type": "stream",
     "text": [
      "The autoreload extension is already loaded. To reload it, use:\n",
      "  %reload_ext autoreload\n"
     ]
    }
   ],
   "source": [
    "%load_ext autoreload\n",
    "%autoreload 2\n",
    "\n",
    "from run import *\n",
    "import time\n",
    "from utils.meshcat_viewer_wrapper import MeshcatVisualizer\n",
    "viz = None\n",
    "# reduced=True\n",
    "reduced=False"
   ]
  },
  {
   "cell_type": "code",
   "execution_count": 3,
   "metadata": {},
   "outputs": [
    {
     "name": "stdout",
     "output_type": "stream",
     "text": [
      "You can open the visualizer by visiting the following URL:\n",
      "http://127.0.0.1:7006/static/\n"
     ]
    }
   ],
   "source": [
    "if reduced:\n",
    "    q_i= np.deg2rad([-90., 40.]) #EASY\n",
    "    q_i= np.deg2rad([-170., 0.]) #NOT EASY\n",
    "    q_g= np.deg2rad([-79., 64.])\n",
    "else:\n",
    "    q_i = np.array([1., -1.5, 2.1, -.5, -.5, 0])\n",
    "    q_g = np.array([3., -1., 1, -.5, -.5, 0])\n",
    "robot = initialize_problem(reduced=reduced)\n",
    "if viz is None:\n",
    "    viz = MeshcatVisualizer(robot)\n",
    "add_special_locations(\n",
    "    robot,\n",
    "    viz,\n",
    "    [\n",
    "        (q_i, \"initial\", \"red\"),\n",
    "        (q_g, \"goal\", \"green\")\n",
    "    ]\n",
    ")\n",
    "system = solve(robot, viz, q_i, q_g, reduced=reduced)\n",
    "\n"
   ]
  },
  {
   "cell_type": "code",
   "execution_count": 8,
   "metadata": {},
   "outputs": [
    {
     "name": "stderr",
     "output_type": "stream",
     "text": [
      " 10%|█         | 10/100 [00:12<01:54,  1.28s/it]"
     ]
    },
    {
     "name": "stdout",
     "output_type": "stream",
     "text": [
      "DONE! forward Bridge found between [ 1.89950388 -1.55432217  2.29837016 -0.65127555 -0.97187895  0.32288519] [ 2.98949779 -1.24997289  1.01440407 -0.63759144 -0.77733702  0.30223923]\n"
     ]
    },
    {
     "name": "stderr",
     "output_type": "stream",
     "text": [
      "\n"
     ]
    },
    {
     "data": {
      "application/vnd.jupyter.widget-view+json": {
       "model_id": "09ddbc89b07045ce959537a38c83c2b4",
       "version_major": 2,
       "version_minor": 0
      },
      "text/plain": [
       "interactive(children=(FloatSlider(value=0.0, description='step', max=7.0), Output()), _dom_classes=('widget-in…"
      ]
     },
     "metadata": {},
     "output_type": "display_data"
    }
   ],
   "source": [
    "from birrt import BiRRT\n",
    "system.reset()\n",
    "birrt = BiRRT(\n",
    "    system,\n",
    "    l_min=0.2,\n",
    "    l_max=0.5,\n",
    "    steer_delta=0.1,\n",
    "    iter_max=100\n",
    ")\n",
    "success = birrt.solve(q_i, q_g)\n",
    "final_path = birrt.get_path()\n",
    "\n",
    "\n",
    "from ipywidgets import interact, IntSlider, FloatSlider\n",
    "def show_step(step=0):\n",
    "    current_config = [np.interp(step, xp=np.arange(len(final_path)), fp=final_path[:, dim]) for dim in range(final_path.shape[1])]\n",
    "    # viz.display(final_path[step])\n",
    "    current_config = np.array(current_config)\n",
    "    assert not system.is_colliding(current_config)\n",
    "    viz.display(current_config)\n",
    "\n",
    "if success:\n",
    "    final_path = birrt.get_path()\n",
    "    system.display_motion(final_path)\n",
    "    interact(show_step, step=FloatSlider(0, min=0, max=len(final_path)-1));\n",
    "else:\n",
    "    print(\"FAIL\")\n",
    "    print(birrt.get_path())\n",
    "    # final_path = None"
   ]
  },
  {
   "cell_type": "code",
   "execution_count": null,
   "metadata": {},
   "outputs": [],
   "source": [
    "system.display_motion(final_path)"
   ]
  },
  {
   "cell_type": "code",
   "execution_count": 12,
   "metadata": {},
   "outputs": [
    {
     "data": {
      "application/vnd.jupyter.widget-view+json": {
       "model_id": "1a98399633bc453dac64313a6c9e5916",
       "version_major": 2,
       "version_minor": 0
      },
      "text/plain": [
       "interactive(children=(FloatSlider(value=0.0, description='step', max=7.0, step=1e-06), Output()), _dom_classes…"
      ]
     },
     "metadata": {},
     "output_type": "display_data"
    }
   ],
   "source": [
    "interact(show_step, step=FloatSlider(0, min=0, max=len(final_path)-1, step=1.E-6));"
   ]
  },
  {
   "cell_type": "code",
   "execution_count": null,
   "metadata": {},
   "outputs": [],
   "source": [
    "eps_final = .1\n",
    "def validation(key):\n",
    "    vec = robot.framePlacement(key, 22).translation - robot.framePlacement(q_g, 22).translation\n",
    "    return (float(np.linalg.norm(vec)) < eps_final)\n",
    "\n",
    "system.reset()\n",
    "rrt = RRT(\n",
    "    system,\n",
    "    N_bias=20,\n",
    "    l_min=0.2,\n",
    "    l_max=0.5,\n",
    "    steer_delta=0.1,\n",
    ")\n",
    "\n",
    "\n",
    "rrt.solve(q_i, validation, qg=q_g)\n",
    "final_path = rrt.get_path(q_g)\n",
    "for q in final_path:\n",
    "    assert not(system.is_colliding(q))"
   ]
  },
  {
   "cell_type": "code",
   "execution_count": null,
   "metadata": {},
   "outputs": [],
   "source": [
    "system.display_motion(final_path)"
   ]
  },
  {
   "cell_type": "markdown",
   "metadata": {},
   "source": [
    "# Visualization of the RRT trajectory in the configuration space"
   ]
  },
  {
   "cell_type": "code",
   "execution_count": null,
   "metadata": {},
   "outputs": [],
   "source": [
    "# Sample the collision grid in a uniform fashion, this could take a while\n",
    "step_size = 0.1\n",
    "q1_values = np.arange(-np.pi, np.pi, step_size)\n",
    "q2_values = np.arange(-np.pi, np.pi, step_size)[::-1] # +pi is at the top of the image\n",
    "\n",
    "# Initialize a matrix to store the results\n",
    "results = np.zeros((len(q1_values), len(q2_values)))\n",
    "\n",
    "# Evaluate collisionDistance for each point in the grid\n",
    "for i, q2 in enumerate(q2_values):\n",
    "    for j, q1 in enumerate(q1_values):\n",
    "        results[i, j] = system.is_colliding(np.array([q1, q2]))"
   ]
  },
  {
   "cell_type": "code",
   "execution_count": null,
   "metadata": {},
   "outputs": [],
   "source": [
    "import matplotlib.pyplot as plt\n",
    "disp_path = final_path.copy()\n",
    "disp_path[disp_path > np.pi] = 2 * np.pi - disp_path[disp_path > np.pi]\n",
    "disp_path[disp_path < -np.pi] = 2 * np.pi + disp_path[disp_path < -np.pi]\n",
    "\n",
    "plt.plot(final_path[:, 0], final_path[:, 1], \"c-+\", alpha=0.9, label=\"rrt\")\n",
    "plt.plot(final_path[-1, 0], final_path[-1, 1], \"go\", label=\"goal\")\n",
    "plt.plot(final_path[0, 0], final_path[0, 1], \"ro\", label=\"start\")\n",
    "plt.grid()\n",
    "plt.legend()\n",
    "obstacle_viz = 1-results.copy()\n",
    "# obstacle_viz[obstacle_viz==0.] = np.nan\n",
    "plt.imshow(obstacle_viz, extent=[-np.pi, np.pi, -np.pi, np.pi])\n",
    "plt.xlim(-np.pi, np.pi)\n",
    "plt.ylim(-np.pi, np.pi)\n",
    "plt.axis(\"equal\")"
   ]
  },
  {
   "cell_type": "code",
   "execution_count": null,
   "metadata": {},
   "outputs": [],
   "source": []
  }
 ],
 "metadata": {
  "kernelspec": {
   "display_name": "robotics",
   "language": "python",
   "name": "python3"
  },
  "language_info": {
   "codemirror_mode": {
    "name": "ipython",
    "version": 3
   },
   "file_extension": ".py",
   "mimetype": "text/x-python",
   "name": "python",
   "nbconvert_exporter": "python",
   "pygments_lexer": "ipython3",
   "version": "3.10.12"
  }
 },
 "nbformat": 4,
 "nbformat_minor": 2
}
