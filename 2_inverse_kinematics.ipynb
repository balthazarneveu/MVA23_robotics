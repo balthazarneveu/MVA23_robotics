{
 "cells": [
  {
   "cell_type": "markdown",
   "metadata": {},
   "source": [
    "# Inverse kinematics\n",
    "This notebook considers the problem of inverse kinematics, ie solving at each control cycle of the robot a quadratic program from the derivatives (jacobian) of the current state. It introduces the basic function to compute the Jacobians of the robot, and how to use them to compute an inverse-kinematics control law. One of the key difficulties is to understand in which frames each quantities is computed (might be in the world frame, in the local frame attached to the end effector, in some arbitrary goal frame, etc), as we should never mixed quantities expressed in different frames without transporting them in the right frame. \n"
   ]
  },
  {
   "cell_type": "markdown",
   "metadata": {},
   "source": [
    "## Set up\n",
    "We will use a Gepetto-viewer, and the linear algebra of NumPy."
   ]
  },
  {
   "cell_type": "code",
   "execution_count": 1,
   "metadata": {},
   "outputs": [],
   "source": [
    "import pinocchio as pin\n",
    "import numpy as np\n",
    "import time\n",
    "from numpy.linalg import pinv,inv,norm,svd,eig\n",
    "from utils.tiago_loader import loadTiago\n",
    "import matplotlib.pylab as plt; plt.ion()\n",
    "from utils.meshcat_viewer_wrapper import MeshcatVisualizer"
   ]
  },
  {
   "cell_type": "markdown",
   "metadata": {},
   "source": [
    "We will use the Tiago robot (https://youtu.be/6BwRqwD066g). This mobile manipulator from PAL Robotics:\n",
    "- has a mobile basis which can move in the plane (3 dof)\n",
    "- a manipulator arm (7 dof)\n",
    "- a head (2 dof) both mounted on a prismatic axis moving vertically (1 dof).\n",
    "\n",
    "This makes \n",
    "- 3 dof for the basis\n",
    "- 9 dof for the body.\n",
    "\n",
    "It also has 2 extra joints tot figure the wheels, which are not very useful for this notebook. \n",
    "\n",
    "The wheels and the basis rotations are represented by the cos and sin of the angle.\n",
    "The size of the configuration vector is then 18, while the velocity vector has dimension 15.\n",
    "\n",
    "A load function is available to make it easy to load the robot."
   ]
  },
  {
   "cell_type": "code",
   "execution_count": null,
   "metadata": {},
   "outputs": [],
   "source": [
    "robot = loadTiago()\n",
    "viz = MeshcatVisualizer(robot)\n"
   ]
  },
  {
   "cell_type": "code",
   "execution_count": null,
   "metadata": {},
   "outputs": [],
   "source": [
    "# viz.viewer.jupyter_cell()"
   ]
  },
  {
   "cell_type": "markdown",
   "metadata": {},
   "source": [
    "The configuration is represented by a vector of larger dimension, subject to constraints ( e.g. $cos^2+sin^2=1$).\n",
    "\n",
    "It is not possible to randomly sample a configuration vector q, as these constraints should be respected.\n",
    "\n",
    "Similarly, we should take care when integrating a velocity as summing a configuration q with a velocity v will not work (dimensions do not match).\n",
    "\n",
    "Two functions in Pinocchio implements these functionnalities."
   ]
  },
  {
   "cell_type": "code",
   "execution_count": null,
   "metadata": {},
   "outputs": [],
   "source": [
    "print(f\"Velocity vector has {robot.model.nv} components\")"
   ]
  },
  {
   "cell_type": "code",
   "execution_count": null,
   "metadata": {},
   "outputs": [],
   "source": [
    "np.random.seed(47)\n",
    "q = pin.randomConfiguration(robot.model)\n",
    "vq = np.random.rand(robot.model.nv)*2 - 1\n",
    "DT = 1e-3\n",
    "qnext = pin.integrate(robot.model, q, vq*DT)"
   ]
  },
  {
   "cell_type": "markdown",
   "metadata": {},
   "source": [
    "A simple example moving the robot in the viewer following a constant (random) velocity is as follows."
   ]
  },
  {
   "cell_type": "code",
   "execution_count": null,
   "metadata": {},
   "outputs": [],
   "source": [
    "for t in range(1000):\n",
    "    q = pin.integrate(robot.model,q,vq*DT)\n",
    "    viz.display(q)\n",
    "    time.sleep(DT/10)"
   ]
  },
  {
   "cell_type": "markdown",
   "metadata": {},
   "source": [
    "The robot is mobile, hence the camera view in the viewer is not always centered. "
   ]
  },
  {
   "cell_type": "markdown",
   "metadata": {},
   "source": [
    "## Forward kinematics and Jacobian\n",
    "\n",
    "- We recall first the basic method to compute the robot forward kinematics.\n",
    "\n",
    "We will consider two frames of interest on the robot: \n",
    "- the first one, named <tool> is at the tip of the end-effector\n",
    "- the second one, named <basis>, is on the front of the robot basis, 10 cm above the ground.\n",
    "\n",
    "Both are represented in Gepetto-Viewer by a frame composed of three RGB arrows. \n",
    "\n",
    "![](figures/frames_of_interest.png)"
   ]
  },
  {
   "cell_type": "code",
   "execution_count": null,
   "metadata": {},
   "outputs": [],
   "source": [
    "IDX_TOOL = robot.model.getFrameId('frametool')\n",
    "IDX_BASIS = robot.model.getFrameId('framebasis')"
   ]
  },
  {
   "cell_type": "code",
   "execution_count": null,
   "metadata": {},
   "outputs": [],
   "source": [
    "# for i in range(79):\n",
    "#     print( robot.model.frames[i])\n",
    "robot.model.frames[IDX_TOOL]\n",
    "# I=quadratic moment of the mesh, m = mass"
   ]
  },
  {
   "cell_type": "markdown",
   "metadata": {},
   "source": [
    "`model.frame` contains a relative placement ($SE(3)$) to a parent frame which will be a joint frame (aka a principal frame). It also contains dynamic constant if it is a representing a link (aka associated to a mesh)."
   ]
  },
  {
   "cell_type": "markdown",
   "metadata": {},
   "source": [
    "### Computing frame placement\n",
    "The global placement of the frames are computed by the Pinocchio function framesForwardKinematics, whose results are stored in robot.data.oMf.\n"
   ]
  },
  {
   "cell_type": "code",
   "execution_count": null,
   "metadata": {},
   "outputs": [],
   "source": [
    "# First call the whole body algorithm\n",
    "pin.framesForwardKinematics(robot.model,robot.data,q)\n",
    "# Then get the position\n",
    "oMtool = robot.data.oMf[IDX_TOOL]\n",
    "oMbasis = robot.data.oMf[IDX_BASIS]\n",
    "\n",
    "print(\"Tool placement:\",oMtool) # instances of SE(3) object\n",
    "print(\"Basis placement:\",oMbasis)"
   ]
  },
  {
   "cell_type": "code",
   "execution_count": null,
   "metadata": {},
   "outputs": [],
   "source": [
    "oMtool.translation"
   ]
  },
  {
   "cell_type": "code",
   "execution_count": null,
   "metadata": {},
   "outputs": [],
   "source": [
    "new_pos = pin.SE3()\n",
    "new_pos.rotation = np.eye(3)\n",
    "# new_pos.translation = np.array([0., 0., 0.])\n",
    "new_pos.translation = oMtool.translation\n",
    "new_pos, oMtool\n",
    "# new_pos\n",
    "# oMtool.rotation = np.eye(3)"
   ]
  },
  {
   "cell_type": "code",
   "execution_count": null,
   "metadata": {},
   "outputs": [],
   "source": [
    "# Place a cyan cylinder at the end of the effector, but without specific direction.\n",
    "# Translation defines the referential point, no matter the rotation ... (translate first, rotate after)\n",
    "name = f\"world/cyl1\"\n",
    "radius = 0.05\n",
    "\n",
    "viz.delete(name)\n",
    "viz.addCylinder(name, 3*radius, radius/5, [0.,1.,1.,1])\n",
    "viz.applyConfiguration(name,new_pos)"
   ]
  },
  {
   "cell_type": "code",
   "execution_count": null,
   "metadata": {},
   "outputs": [],
   "source": [
    "# Place a yellow cylinder at the end of the effector, with the effector orientation, just to make sure!\n",
    "name = f\"world/cyl2\"\n",
    "radius = 0.05\n",
    "viz.delete(name)\n",
    "viz.addCylinder(name, 3*radius, radius/5, [1.,1.,0.,1])\n",
    "viz.applyConfiguration(name,oMtool)"
   ]
  },
  {
   "cell_type": "markdown",
   "metadata": {},
   "source": [
    "It is very important to notice the instruction pattern (which is standard in all Pinocchio functions): \n",
    "- first call a whole-body algorithm (here *pin.framesForwardKinematics*)\n",
    "- then access the results into *robot.data*.\n",
    "\n",
    "`robot.model` refers to the structure and `robot.data` as container for data that are populated using a whole body algorithm for a given configuration on other elements."
   ]
  },
  {
   "cell_type": "markdown",
   "metadata": {},
   "source": [
    "\n",
    "\n",
    "![](figures/placement_SE3_object.png)\n",
    "\n",
    "- Placed a yellow cylinder at the end of the effector using `oMtool`.\n",
    "- Placed a cyan cyliner by setting the rotation to $Id(3)$. Note that the position stays the same, no matter the rotation. The cylinder is aligned with the world x axis. $[Id(3), ^0T_{tool}]$, \n",
    "\n",
    "\n",
    "The tool-placement matrix \n",
    "$^0M_{tool}$ represents the displacement \n",
    "from the world frame $F_0$ to the tool frame $F_{tool}$ express in $F_0$. \n",
    "\n",
    "It is this matrix that must be applied to vector express in $F_{tool}$ to transform it as vector express in $F_0$. \n",
    "\n",
    "It is composed on a rotation matrix $^0R_{tool}$ and a 3D vector $^0T_{tool}$: \n",
    "\n",
    "$^0M_{tool}= [^0R_{tool}, ^0T_{tool}]$, \n",
    "\n",
    "when $^0T_{tool}$ is the vector $o_{tool} - o_{0}$ from the origin of frame $F_0$ to the origin of from $F_{tool}$ expressed in the world frame $F_o$. \n",
    "\n",
    "$^0T_{tool} = $ `oMtool.translation`\n",
    "\n",
    "\n",
    "We can also express $o_{tool} - o_{0}$ in the tool frame $F_{tool}$ by multiplying $^0T_{tool}$ by $^0R_{tool}^T$\n",
    "\n",
    "\n"
   ]
  },
  {
   "cell_type": "markdown",
   "metadata": {},
   "source": [
    "> Take care to the multiplication operator in numpy. \n",
    "> The operator* is (unintuitively) mapped to the coefficient-wise multiplication ... i.e. not at all the matrix multiplication. You should use the operator @ to get the real matrix-matrix product. \n",
    "> Never mind, you will likely be tricked at least once by this design pattern.\n",
    "> If you don't like it ... well there is nothing to do, this is the basic matrix library in Python, the world most used language. "
   ]
  },
  {
   "cell_type": "markdown",
   "metadata": {},
   "source": [
    "### Computing Jacobians\n",
    "The jacobian of a frame of the robot is computed using `pin.computeFrameJacobian`"
   ]
  },
  {
   "cell_type": "code",
   "execution_count": null,
   "metadata": {},
   "outputs": [],
   "source": [
    "Jtool = pin.computeFrameJacobian(robot.model,robot.data,q,IDX_TOOL)\n",
    "Jtool.shape"
   ]
  },
  {
   "cell_type": "markdown",
   "metadata": {},
   "source": [
    "This matrix has 6 rows and NV=15 columns. It corresponds to the \"spatial\" 6D velocity of the end effector. Let's first focus on the 3 first rows, corresponding to the linear velocity. Instant velocity of the original frame:"
   ]
  },
  {
   "cell_type": "code",
   "execution_count": null,
   "metadata": {},
   "outputs": [],
   "source": [
    "Jtool3 = Jtool[:3,:]"
   ]
  },
  {
   "cell_type": "markdown",
   "metadata": {},
   "source": [
    "#### Jacobian as a velocity operator\n",
    "A first way to understand what is this matrix is to see that as an operator that converts the velocity in the configuration space into the linear velocity of the end effector."
   ]
  },
  {
   "cell_type": "code",
   "execution_count": null,
   "metadata": {},
   "outputs": [],
   "source": [
    "vtool = Jtool3 @ vq # [3, NV] @ [NV]\n",
    "vtool.shape"
   ]
  },
  {
   "cell_type": "markdown",
   "metadata": {},
   "source": [
    "But in which frame is $v_{tool}$ expressed? The choice in Pinocchio (following the principles described in [Rigid body dynamics algorithms](https://doi.org/10.1007/978-1-4899-7560-7)) is to express **quantities in the local frame by default.**\n",
    "\n",
    " Therefore, ``vtool`` here is ${}^{tool} v_{tool}$, expressed in the tool frame $F_{tool}$. We can compute the velocity in the world frame $F_0$ by applying the rotation matrix $^{0}R_{tool}$:"
   ]
  },
  {
   "cell_type": "code",
   "execution_count": null,
   "metadata": {},
   "outputs": [],
   "source": [
    "tool_vtool = vtool\n",
    "o_vtool = oMtool.rotation @ vtool"
   ]
  },
  {
   "cell_type": "code",
   "execution_count": null,
   "metadata": {},
   "outputs": [],
   "source": [
    "tool_Jtool = pin.computeFrameJacobian(robot.model, robot.data, q, IDX_TOOL, pin.LOCAL)\n",
    "tool_Jtool3 = tool_Jtool[:3,:]"
   ]
  },
  {
   "cell_type": "markdown",
   "metadata": {},
   "source": [
    "We are using here long variable names. In the code, these explicit notations are maybe to much. It is your choice to use them or not. For sure, you should use similar notations on the paper board when formulating your algorithm, but maybe you prefer lighter variable naming for implementing it.\n",
    "The tool velocity is easier to interpret in the world frame."
   ]
  },
  {
   "cell_type": "markdown",
   "metadata": {},
   "source": [
    "We generalize this notation to the jacobian part dedidcated to linear velocity expressed in the world frame $F_0$:"
   ]
  },
  {
   "cell_type": "code",
   "execution_count": null,
   "metadata": {},
   "outputs": [],
   "source": [
    "o_Jtool3 = oMtool.rotation @ tool_Jtool3\n",
    "# moving the jacobian to the world frame o by applying the referential rotation of the tool (invariant by translation any way to oMtool.translation is not used here.)"
   ]
  },
  {
   "cell_type": "markdown",
   "metadata": {},
   "source": [
    "### `pin.LOCAL`\n",
    "To be more precise, the relation between Jacobian, motion and frame is:\n",
    "$$\n",
    "^{tool}J_{tool} \\dot{q} = ^{tool}w_{tool} = \\begin{bmatrix} ^{tool}v_{tool} \\\\ ^{tool}\\omega_{tool} \\end{bmatrix}\n",
    "$$\n",
    "Here ${}^{tool} w_{tool}$ is the *twist* (the instantaneous rigid-body motion, including both linear and angular velocity) from frame $F_{tool}$ to frame $F_0$, expressed in $F_{tool}$ itself. \n",
    "\n",
    "Mathematically, twist is just a name for any element of the Lie algebra $\\mathfrak{se}(3)$ acting on $SE(3)$. \n",
    "\n",
    "We can interpret \n",
    "* $^{tool}v_{tool}$ as the point velocity of the origin of frame $F_{tool}$, expressed in itself\n",
    "* $^{tool}\\omega_{tool}$ as the instaneous rotation axis/amplitude.\n",
    "\n"
   ]
  },
  {
   "cell_type": "markdown",
   "metadata": {},
   "source": [
    "### `pin.LOCAL_WORLD_ALIGNED`\n",
    "\n",
    "Then we can express those two vectors in the world origin $F_{0}$ using $^0R_{tool}$. we have: $$[^{0}v_{tool}, ^{0}\\omega_{tool}] = [^0R_{tool}\\vphantom{.}^{tool}v_{tool}, ^0R_{tool}\\vphantom{.}^{tool}\\omega_{tool}]$$\n",
    "the quantities $^{0}v_{tool}$ and $^{0}\\omega_{tool}$ are easilly interpretable as the same vector quantities in a different frame."
   ]
  },
  {
   "cell_type": "code",
   "execution_count": null,
   "metadata": {},
   "outputs": [],
   "source": [
    "# Angular velocity - we transform the parameters derivative vq in the config space into a 3D angular velocity vector... in the workspace ... at the tool position , expressed in the tool referential\n",
    "tool_Omega_tool = Jtool[3:] @ vq # [3, NV] @ [NV]\n",
    "tool_Omega_tool.shape\n",
    "o_Omega_tool = oMtool.rotation @ tool_Omega_tool"
   ]
  },
  {
   "cell_type": "markdown",
   "metadata": {},
   "source": [
    "\n",
    "----------------\n",
    "### `pin.WORLD`\n",
    "\n",
    ":warning: **Note** $[^{0}v_{tool}, ^{0}\\omega_{tool}] \\neq ^{0}w_{tool}$  expressing the \"twist\" in the original referential *(differs for the linear velocity part, rotation remains the same)*\n",
    "\n",
    "However, we can also expres the whole instantaneous motion in the original frame:\n",
    "$$^{0}w_{tool} = ^{0}J_{tool}\\dot{q} = ^{0}X_{tool}\\vphantom{.}^{tool}J_{tool} \\dot{q}$$\n",
    "where $^{0}X_{tool}$ is the adjoint operator related to $^{0}R_{tool}, ^{0}T_{tool}$ that allows to change frame for element of $\\mathfrak{se}(3)$. We can note that:\n",
    "$$^{0}w_{tool} = ^{0}X_{tool}[^{tool}v_{tool}, ^{tool}\\omega_{tool}] = [^0R_{tool}\\vphantom{.}^{tool}v_{tool} + ^0T_{tool} \\wedge ^0R_{tool}\\vphantom{.}^{tool}\\omega_{tool}, ^0R_{tool}\\vphantom{.}^{tool}\\omega_{tool}]=[^0v_{tool} + ^0T_{tool} \\wedge ^{0}\\omega_{tool}, ^{0}\\omega_{tool}]$$\n",
    "note here that the angular component of $^{0}w_{tool}$ is $^{0}\\omega_{tool}$ but the linear part is not $^0v_{tool}$ but use the Varignon formula instead. It has not an easy interpretation on its own, it is the linear part of the instantaneous motion express in the world frame.\n",
    "\n"
   ]
  },
  {
   "cell_type": "markdown",
   "metadata": {},
   "source": [
    "#### Jacobian as a derivative\n",
    "In the previous section (`Jacobian as a velocity operator`)\n",
    "- jacobians are operator transforming configuration velocity into Frame instantaneous motion (velocity in $\\mathfrak{se}(3)$) \n",
    "- and frame manipulation allow to express velocity of the origin or instaneous motion in every other frame.\n",
    "\n",
    "A second interpretation of is to observe that it is the derivative of the placement following q.\n",
    "\n",
    "\n",
    "For the three first colums, \n",
    "it is the derivative of the vector $^0T_{tool} = (o_{tool} - o_0)$ the tool position in world frame. \n",
    "\n",
    "Indeed $^0T_{tool}$ is a function of q: \n",
    "\n",
    "\n",
    "\n",
    "We can take its derivative with respect to q, denoted $\\frac{\\partial ^0T_{tool}}{\\partial q}$.\n",
    "\n",
    "This derivatives is equal to the Jacobian expressed in the world frame $F_0$: $\\frac{\\partial ^0T}{\\partial q} = \\vphantom{.}^0J_{tool}$.\n",
    "\n",
    "The global jacobian is the same for the whole motion expression using the algebra of the Lie group $SE(3)$\n",
    "\n",
    "$$^{tool}J_{tool}(q) u = \\lim_{t \\to 0^+}\\frac{^{0}M_{tool}(q \\oplus_{\\mathcal{C}} tu) \\ominus_{SE(3)} \\vphantom{.}^{0}M_{tool}(q)}{t}$$\n",
    "\n",
    "\n",
    "Since $^{0}T_{tool}$ does not depend on $^{0}R_{tool}$, this is not too suprising for linear velocity at least.\n",
    "\n",
    "\n",
    "To be convinced of that, let's check the finite differences. We take a small movement dq, and see that the change in position `o_OT(q+dq)` corresponds to the linear prediction `o_Jtool3*dq`."
   ]
  },
  {
   "cell_type": "markdown",
   "metadata": {},
   "source": [
    "#### Jacobian as a derivative of frame placements\n",
    "In the previous section (`Jacobian as a velocity operator`)\n",
    "- jacobians are operator transforming configuration velocity into Frame instantaneous motion (velocity in $\\mathfrak{se}(3)$) \n",
    "- and frame manipulation allow to express velocity of the origin or instaneous motion in every other frame.\n",
    "\n",
    "A second interpretation of is to observe that it is the derivative of the placement following $q$.\n",
    "\n",
    "For the three first colums, it is the derivative of the vector $^0T_{tool} = (o_{tool} - o_0)$ the tool position in world frame.\n",
    "\n",
    "Indeed $^0T_{tool}$ is a function of $q$, $^0T_{tool}(q)$ in full.  \n",
    "> $^0T_{tool}(q)$, the function is actually the forward kinematic. \n",
    "\n",
    "We can take its derivative with respect to $q$, denoted $\\frac{\\partial ^0T_{tool}}{\\partial q}$. \n",
    "\n",
    "This derivative is equal to the Jacobian expressed in the world frame  $F_0$:\n",
    "\n",
    "$\\frac{\\partial ^0T}{\\partial q} = \\vphantom{.}^0J_{tool3}$.\n",
    "\n",
    "The global Jacobian is the same for the whole motion expression, using the algebra of the Lie group $SE(3)$:\n",
    "\n",
    "$$\n",
    "^{tool}J_{tool}(q) u = \\lim_{t \\to 0^+}\\frac{^{0}M_{tool}(q \\oplus_{\\mathcal{C}} tu) \\ominus_{SE(3)} \\vphantom{.}^{0}M_{tool}(q)}{t}\n",
    "$$\n",
    "\n",
    "where the $\\oplus_{\\mathcal{C}}$ operator is the exponential on the configuration space $\\mathcal{C}$, implemented for us by Pinocchio's `pin.integrate(model, q, dq)` function. You can think of it by analogy with $SE(3)$:\n",
    "\n",
    "$$\n",
    "{}^{0} M_{tool} \\oplus_{SE(3)} ({}^{tool} \\omega_{tool} T) = {}^0 M_{tool} \\exp({}^{tool} \\omega_{tool} T)\n",
    "$$\n",
    "\n",
    "The minus operator $\\ominus_{SE(3)}$ corresponds to the logarithm:\n",
    "\n",
    "$$\n",
    "{}^{0} M_{goal} \\ominus_{SE(3)} {}^0 M_{tool} = \\log({}^0 M_{tool}^{-1} {}^0 M_{goal}) = \\log({}^{tool} M_{goal})\n",
    "$$\n",
    "\n",
    "In this expression, the resulting vector $\\log({}^{tool} M_{goal})$ belongs to the tool frame $F_{tool}$ (informally, $\\log({}^b M_a)$ is in frame $b$). In Lie groups, be it $SE(3)$ to describe rigid-body transformations, or $\\mathcal{C}$ the configuration space of our robot, things don't commute. If we had taken ${}^{0} M_{tool} \\ominus_{SE(3)} {}^{0} M_{goal}$ instead, we would have obtained a twist in the goal frame.\n",
    "\n",
    "To convince ourselves of these observations, let's check finite differences. We can take a small displacement $\\delta q$, and check that the change in position ${}^0 T_{tool}(q + \\delta q)$ matches the linear prediction ${}^0 J_{tool3} \\delta q$:\n"
   ]
  },
  {
   "cell_type": "code",
   "execution_count": null,
   "metadata": {},
   "outputs": [],
   "source": [
    "# Sample between -0.001 and 0.001\n",
    "EPS = 1e-4\n",
    "u = (2 * np.random.rand(robot.model.nv) - 1)\n",
    "dq = u*EPS\n",
    "\n",
    "# q2 = q+dq\n",
    "q2 = pin.integrate(robot.model, q, dq)\n",
    "\n",
    "# tool position for q -> use forward kinematics before accessing the \"placement\" of the tool in SE(3).\n",
    "pin.framesForwardKinematics(robot.model,robot.data,q)\n",
    "o_M_tool = robot.data.oMf[IDX_TOOL].copy()\n",
    "o_T_tool = o_M_tool.translation\n",
    "\n",
    "# tool position for q+dq -> use forward kinematics before accessing the displaced tool \"placement\" in SE(3).\n",
    "pin.framesForwardKinematics(robot.model,robot.data,q2)\n",
    "o_M_tool2 = robot.data.oMf[IDX_TOOL].copy()\n",
    "o_T_tool2 = o_M_tool2.translation\n",
    "\n",
    "print(\"Full Jacobian in the tool frame:\")\n",
    "print(f\"With a Jac: {tool_Jtool @ u}\")\n",
    "print(f\"With a log: {pin.log(o_M_tool.inverse() * o_M_tool2).vector / EPS}\")\n",
    "# This seems counter intuitive but the finite difference is expressed in the tool referential!\n",
    "\n",
    "# tool_Jtool : [6, nv] ...\n",
    "# tool_Jtool @ u  : [6,]\n",
    "\n",
    "print(\"\\nOrigin velocity in the world frame:\")\n",
    "print(f\"With a Jac: {o_Jtool3 @ u}\")\n",
    "print(f\"With a log: {o_M_tool.rotation @ pin.log(o_M_tool.inverse() * o_M_tool2).linear / EPS}\")\n",
    "print(f\"With fdiff: {(o_T_tool2 - o_T_tool) / EPS}\")"
   ]
  },
  {
   "cell_type": "markdown",
   "metadata": {},
   "source": [
    "### Unit test on a confusion of intuition\n",
    ":warning:  $^{tool}J_{tool}(q) u = \\lim_{t \\to 0^+}\\frac{^{0}M_{tool}(q \\oplus_{\\mathcal{C}} tu) \\ominus_{SE(3)} \\vphantom{.}^{0}M_{tool}(q)}{t}$ \n",
    "is indeed expressed in the tool frame\n",
    "\n",
    "...\n",
    "> I thought there was a typo here ... at first I would have expected $^{0}J_{tool}(q)$ but its seems that the formula is correct"
   ]
  },
  {
   "cell_type": "code",
   "execution_count": null,
   "metadata": {},
   "outputs": [],
   "source": [
    "#### A SORT OF UNIT TEST TO CHECK THAT FINITE DIFFERENCE (using the log) of positions expressed in the world frame... end up in the tool frame.\n",
    "delta = np.array([0.01, 0.02, 0.03])\n",
    "# First time, align tool with world orientation... \n",
    "# Second time , tool is rotated\n",
    "for rot in [np.eye(3), oMtool.rotation]:\n",
    "    pos_1 = pin.SE3()\n",
    "    pos_1.rotation = rot\n",
    "    pos_1.translation = oMtool.translation\n",
    "\n",
    "    pos_2 = pin.SE3()\n",
    "    pos_2.rotation = rot\n",
    "    pos_2.translation = oMtool.translation + delta\n",
    "\n",
    "    EPS = np.linalg.norm(delta)\n",
    "    print(pin.log(pos_1.inverse() * pos_2).vector)\n",
    "print(oMtool.rotation.T @delta) # Just put the delta vector in the tool frame... and you get the same result...\n",
    "\n",
    "# WARNING: finite difference velocity computation of positions expressed in the world referential ... end up in the tool referential."
   ]
  },
  {
   "cell_type": "markdown",
   "metadata": {},
   "source": [
    "#### Frame options in Pinocchio\n",
    "Most algorithms accept an option to specify in which frame the spatial quantity should be expressed. \n",
    "\n",
    "The two basic options are `pin.LOCAL` and `pin.WORLD`.\n",
    "\n",
    "When related to velocity, *LOCAL* is the linear velocity of the center of the local frame (the TOOL_IDX frame, here) and the angular velocity, both expressed in the local frame. With *WORLD* frame, this is the instantaneous motion expressed in the world frame.\n",
    "\n",
    "It is also composed of a linear and an angular velocity but remember that the linear velocity is then difficult to interpret.\n",
    "\n",
    "A last option is given by convenience, which does not respect the mathematics of spatial velocity, but matches the French \"torseur cinématique\": \n",
    "`pin.LOCAL_WORLD_ALIGNED` gives the linear velocity of the center of the local frame and the angular velocity, both expressed in the world frame.\n",
    "\n",
    "*It is convenient especially when we are interested to consider the linear velocity as the derivative of the position. This is what we did above.*\n",
    "\n",
    "To recap:\n",
    "- `pin.LOCAL` gives $^{tool}w_{tool} = [^{tool}v_{tool}, ^{tool}\\omega_{tool}]$\n",
    "- `pin.WORLD` gives $^{0}w_{tool} =\\vphantom{.}^{0}X_{tool}\\vphantom{.}^{tool}w_{tool}=\\left(\\begin{array}{c|c} \n",
    "  ^0R_{tool} & [^0T_{tool}]_{\\times}\\vphantom{.}^0R_{tool} \\\\ \n",
    "  \\hline \n",
    "  0 & ^0R_{tool}\n",
    "\\end{array} \n",
    "\\right)\\vphantom{.}^{0}w_{tool}$\n",
    "- `pin.LOCAL_WORLD_ALIGNED` gives $[^{0}v_{tool}, ^{0}\\omega_{tool}]=\\left(\n",
    "\\begin{array}{c|c} \n",
    "  ^0R_{tool} & 0 \\\\ \n",
    "  \\hline \n",
    "  0 & ^0R_{tool}\n",
    "\\end{array} \n",
    "\\right)\\vphantom{.}^{0}w_{tool}$\n"
   ]
  },
  {
   "cell_type": "code",
   "execution_count": null,
   "metadata": {},
   "outputs": [],
   "source": [
    "# 0wtool and toolwtool\n",
    "tool_Jtool = pin.computeFrameJacobian(robot.model,robot.data,q,IDX_TOOL, pin.LOCAL)\n",
    "o_Jtool = pin.computeFrameJacobian(robot.model,robot.data,q,IDX_TOOL, pin.WORLD)\n",
    "print(o_Jtool @ u)\n",
    "print(oMtool.action @ (tool_Jtool @ u))\n",
    "\n",
    "# 0vtool and toolwtool\n",
    "o_Jtool3 = oMtool.rotation @ tool_Jtool[:3, :]\n",
    "print((o_Jtool3 @ u))\n",
    "new_o_Jtool3 = pin.computeFrameJacobian(robot.model,robot.data,q,IDX_TOOL, pin.LOCAL_WORLD_ALIGNED)[:3,:]\n",
    "print((new_o_Jtool3 @ u))"
   ]
  },
  {
   "cell_type": "markdown",
   "metadata": {},
   "source": [
    "You may see this video which explain with more illustriations the 3 frame options:  https://youtu.be/MLFtHLTprE4 "
   ]
  },
  {
   "cell_type": "markdown",
   "metadata": {},
   "source": [
    "## Inverse kinematics for the moving the robot effector\n",
    "We will first move only the robot end effector, to reach a target defined by a frame F_goal.\n",
    "Let's have the tool go from pink to blue!\n",
    "\n",
    "![](figures/inverse_kinematics_task.png)"
   ]
  },
  {
   "cell_type": "code",
   "execution_count": null,
   "metadata": {},
   "outputs": [],
   "source": [
    "# Goal placement, and integration in the viewer of the goal.\n",
    "o_Mgoal = pin.SE3(pin.Quaternion(-0.5, 0.58, -0.39, 0.52).normalized().matrix(),\n",
    "                np.array([1.2, .4, .7]))\n",
    "viz.delete(\"goal\")\n",
    "viz.addBox('goal', [.1,.1,.1], [ .1,.1,.5, .6] )\n",
    "viz.applyConfiguration('goal',o_Mgoal)"
   ]
  },
  {
   "cell_type": "code",
   "execution_count": null,
   "metadata": {},
   "outputs": [],
   "source": [
    "# Robot initial configuration.\n",
    "q0 = np.array([ 0.  ,  0.  ,  1.  ,  0.  ,  0.18,  1.37, -0.24, -0.98,  0.98,\n",
    "                0.  ,  0.  ,  0.  ,  0.  , -0.13,  0.  ,  0.  ,  0.  ,  0.  ])\n",
    "viz.display(q0)\n",
    "pin.framesForwardKinematics(robot.model,robot.data,q0)\n",
    "# Then get the position\n",
    "o_Mtool_start = robot.data.oMf[IDX_TOOL]\n",
    "viz.delete(\"start\")\n",
    "viz.addBox('start', [.1,.1,.1], [ 1.,.1,.5, .6] )\n",
    "viz.applyConfiguration('start',o_Mtool_start)"
   ]
  },
  {
   "cell_type": "markdown",
   "metadata": {},
   "source": [
    "### Position the effector (3D)\n",
    "\n",
    "It is time to write your first control law. Write a for loop to simulate the control cycles of the robot. At each control cycle, you should:\n",
    "\n",
    "* compute the Jacobian 3D in the world frame `o_Jtool3`\n",
    "* compute the vector from the tool to the goal, expressed in world frame: `o_TG = o_goal - o_tool`\n",
    "* compute the control law as `vq = pinv(o_Jtool3) @ o_TG`\n",
    "* integrate this during a duration `DT` to get to a new configuration `q`.\n",
    "\n",
    "You might want to start from the following initial configuration, or from any random one.\n",
    "\n",
    "Note that [`numpy.linalg.pinv`](https://numpy.org/doc/stable/reference/generated/numpy.linalg.pinv.html) in `pinv(J)` computes $J^+$, the Moore-Penrose pseudo-inverse of $J$. Precisely, for any vector $e$, $J^+ e$ is the solution of the linear least square problem:\n",
    "$$\\min_x \\|Jx - e\\|_2^2.$$ \n",
    "\n",
    "(If $J$ is not full rank and there are multiple such solutions, it corresponds to the one of minimum L2 norm $\\| x \\|$.)"
   ]
  },
  {
   "cell_type": "code",
   "execution_count": null,
   "metadata": {},
   "outputs": [],
   "source": [
    "DT = 1e-2"
   ]
  },
  {
   "cell_type": "markdown",
   "metadata": {},
   "source": [
    "It is a good idea to store the values of the error between tool and goal o_TG, to plot them later. For that, simply append each o_TG computed at every control cycle in a list."
   ]
  },
  {
   "cell_type": "code",
   "execution_count": null,
   "metadata": {},
   "outputs": [],
   "source": [
    "q = q0.copy()\n",
    "DT = 5e-2\n",
    "herr = [] # Log the value of the error between tool and goal.\n",
    "IDX_SELEC = IDX_TOOL\n",
    "for i in range(1000):  # Integrate over 2 second of robot life\n",
    "    pin.framesForwardKinematics(robot.model, robot.data, q)  # update Forward kinematic\n",
    "    \n",
    "    o_Mtool = robot.data.oMf[IDX_SELEC].copy()\n",
    "\n",
    "\n",
    "    o_Jtool = pin.computeFrameJacobian(robot.model, robot.data, q, IDX_SELEC, pin.WORLD)\n",
    "    \n",
    "    o_Jtool3 = o_Jtool[:3, :]\n",
    "    \n",
    "    # o_TG = pin.log(o_Mtool.inverse() * o_Mgoal).vector\n",
    "    # Do not play with the logarithm or silly stuff here... just get the 3D translation vector.\n",
    "    o_TG = o_Mgoal.translation - o_Mtool.translation\n",
    "\n",
    "    vq = np.linalg.pinv(o_Jtool3) @ o_TG[:3]\n",
    "    \n",
    "    q = pin.integrate(robot.model, q, vq*DT)\n",
    "\n",
    "    viz.display(q)\n",
    "    time.sleep(1e-3)\n",
    "\n",
    "    herr.append(o_TG) \n",
    "\n",
    "viz.delete(\"current\")\n",
    "viz.addBox('current', [.1,.1,.1], [ 1.,1.,0., .6] )\n",
    "viz.applyConfiguration('current',o_Mtool)\n"
   ]
  },
  {
   "cell_type": "markdown",
   "metadata": {},
   "source": [
    "It is interesting to plot the behavior of the robot. If the error at each iteration has been stored as a list of 3x1 matrices, the following code plots it."
   ]
  },
  {
   "cell_type": "code",
   "execution_count": null,
   "metadata": {},
   "outputs": [],
   "source": [
    "plt.plot(herr)\n",
    "plt.xlabel('control cycle (iter)')\n",
    "plt.ylabel('error (m)');"
   ]
  },
  {
   "cell_type": "markdown",
   "metadata": {},
   "source": [
    "We can observe that each component of the error converges toward 0 following an exponential trajetory. The convergence is assymptotic. To fasten the convergence, increase the gain of the control law ($v_q = - \\lambda J^+ e$), where the gain $\\lambda$ has yet been set to 1."
   ]
  },
  {
   "cell_type": "markdown",
   "metadata": {},
   "source": [
    "\n",
    "![](figures/inverse_kinematics_task_Translation_steps.png)\n"
   ]
  },
  {
   "cell_type": "markdown",
   "metadata": {},
   "source": [
    "### Place the end effector (6D)\n",
    "The previous control law brings the center of the effector toward the center of the goal frame. However, it does not control the orientation of the end effector: the axes of the two frames $F_{tool}$ and $F_{goal}$ do not converge.\n",
    "\n",
    "We now want to modify the control law to take into account both tool translation and tool orientation. For that, let us compute the error in $SE(3)$. \n",
    "\n",
    "We will use the full ${}^{0} J_{tool}$ rather than ${}^o J_{tool3}$, and compute the error vector as the generalized difference between the tool frame and the goal frame:\n",
    "\n",
    "$$^{tool}M_{goal} = \\vphantom{.}^{0}M_{tool}^{-1} \\vphantom{.}^{0}M_{goal}$$\n",
    "$$^{tool}w_{goal} = \\vphantom{.}^{0}M_{tool} \\ominus_{SE(3)} \\vphantom{.}^{0}M_{tool} = \\log(^{tool}M_{goal})$$\n",
    "where $^{tool}w_{goal}$ is a twist in the local frame."
   ]
  },
  {
   "cell_type": "code",
   "execution_count": null,
   "metadata": {},
   "outputs": [],
   "source": [
    "pin.framesForwardKinematics(robot.model, robot.data, q)  # update Forward kinematic\n",
    "o_Mtool = robot.data.oMf[IDX_TOOL].copy()\n",
    "toolMgoal = o_Mtool.inverse() * o_Mgoal\n",
    "tool_w = pin.log(toolMgoal).vector"
   ]
  },
  {
   "cell_type": "markdown",
   "metadata": {},
   "source": [
    "This error `tool_w` is can be interpreted as the twist that should be applied during one second to displace the tool frame $F_tool$ (located at ${}^0 M_{tool}$) to the goal frame $F_{goal}$ (located at ${}^0 M_{goal}$).\n",
    "\n",
    "Implement a second control law, following the same pattern as with positions. At each control cycle, you should:\n",
    "\n",
    "* compute the displacement between $F_{tool}$ and $F_{goal}$, denoted by ``toolMgoal``\n",
    "* compute the error twist ``tool_w`` using the logarithm over $SE(3)$\n",
    "* compute the 6D Jacobian `tool_Jtool`\n",
    "* compute the control law `vq = pinv(J) @ nu`\n",
    "* integrate the robot velocity `vq` during `DT` to get to a new configuration `q`\n",
    "* log the error by storing it in a list `herr`."
   ]
  },
  {
   "cell_type": "code",
   "execution_count": null,
   "metadata": {},
   "outputs": [],
   "source": [
    "viz.display(q0)\n",
    "for i in range(1000): \n",
    "    viz.delete(f\"debug/traj{i}\")\n",
    "viz.delete(\"current_6D\")"
   ]
  },
  {
   "cell_type": "code",
   "execution_count": null,
   "metadata": {},
   "outputs": [],
   "source": [
    "q = q0.copy()\n",
    "viz.display(q0)\n",
    "DT = 4e-2\n",
    "herr = [] # Log the value of the error between tool and goal.\n",
    "IDX_SELEC = IDX_TOOL\n",
    "for i in range(300):  # Integrate over 2 second of robot life\n",
    "    pin.framesForwardKinematics(robot.model, robot.data, q)  # update Forward kinematic\n",
    "    o_Mtool = robot.data.oMf[IDX_SELEC].copy()\n",
    "\n",
    "    \n",
    "    tool_Jtool = pin.computeFrameJacobian(robot.model, robot.data, q, IDX_SELEC, pin.LOCAL)\n",
    "    \n",
    "    toolMgoal = o_Mtool.inverse() * o_Mgoal\n",
    "    tool_w = pin.log(toolMgoal).vector\n",
    "\n",
    "\n",
    "    vq = np.linalg.pinv(tool_Jtool) @ tool_w\n",
    "    q = pin.integrate(robot.model, q, vq*DT)\n",
    "\n",
    "    viz.display(q)\n",
    "    time.sleep(1e-3)\n",
    "    if i%20 and np.linalg.norm(tool_w)>0.05:\n",
    "        viz.delete(f\"debug/traj{i}\")\n",
    "        viz.addBox(f\"debug/traj{i}\", [0.08,.05,.05], [ 1. ,0., 1., 0.2] )\n",
    "        viz.applyConfiguration(f\"debug/traj{i}\",o_Mtool)\n",
    "    herr.append(tool_w) \n",
    "\n",
    "viz.delete(\"current_6D\")\n",
    "viz.addBox('current_6D', [.11,.11,.11], [ 1. ,1.,0., 0.6] )\n",
    "viz.applyConfiguration('current_6D',o_Mtool)\n"
   ]
  },
  {
   "cell_type": "markdown",
   "metadata": {},
   "source": [
    "The tool frame F_tool converges toward the gooal frame F_goal: the center and the axes are finally aligned. \n",
    "The trajectory of the tool center is not a straight line, as the frame F_tool follows a \"straight\" line, not in R^3 but in SE(3).\n",
    "We can also plot the error (assuming that herr is a list of the 6D errors herr).\n",
    "\n",
    "![](figures/inverse_kinematics_task_6D_steps_init.png)\n",
    "![](figures/inverse_kinematics_task_6D_steps.png)\n",
    "\n"
   ]
  },
  {
   "cell_type": "code",
   "execution_count": null,
   "metadata": {},
   "outputs": [],
   "source": [
    "plt.figure(figsize=(6, 12))\n",
    "plt.subplot(211)\n",
    "plt.plot([ e[:3] for e in herr])\n",
    "plt.xlabel('control cycle (iter)')\n",
    "plt.ylabel('Translation error (m)')\n",
    "plt.grid()\n",
    "plt.subplot(212)\n",
    "plt.plot([ e[3:] for e in herr])\n",
    "plt.xlabel('control cycle (iter)')\n",
    "plt.ylabel('Angular error (rad)');\n",
    "plt.grid()\n",
    "plt.show()"
   ]
  },
  {
   "cell_type": "markdown",
   "metadata": {},
   "source": [
    "### Inverse kinematics for two tasks\n",
    "We yet controlled the robot with a single task (either the 3d position or the 6d placement errors). Let's see how to take into account a second task. Let's first introduce a second task. \n",
    "\n",
    "#### Introducing a second task: control the gaze\n",
    "The robot has an additional frame named F_gaze, attached to the head and located 40 cm in front of the cameras. The task will be to position (3d) the center of this frame on an object of interest (a red ball)."
   ]
  },
  {
   "cell_type": "code",
   "execution_count": 2,
   "metadata": {},
   "outputs": [
    {
     "name": "stdout",
     "output_type": "stream",
     "text": [
      "You can open the visualizer by visiting the following URL:\n",
      "http://127.0.0.1:7001/static/\n"
     ]
    }
   ],
   "source": [
    "robot = loadTiago(addGazeFrame=True)\n",
    "viz = MeshcatVisualizer(robot)"
   ]
  },
  {
   "cell_type": "code",
   "execution_count": 3,
   "metadata": {},
   "outputs": [],
   "source": [
    "IDX_GAZE = robot.model.getFrameId('framegaze')\n",
    "IDX_TOOL = robot.model.getFrameId('frametool')\n",
    "IDX_BASIS = robot.model.getFrameId('framebasis')\n",
    "\n",
    "# Add a small ball as a visual target to be reached by the robot\n",
    "ball = np.array([ 1.2,0.5,1.1 ])\n",
    "o_Mgazegoal = pin.SE3(np.eye(3), ball)\n",
    "viz.addSphere('ball', .05, [ .8,.1,.5, .8] )\n",
    "viz.applyConfiguration('ball', list(ball)+[0,0,0,1])\n",
    "\n",
    "# Add the box again\n",
    "o_Mgoal = pin.SE3(pin.Quaternion(-0.5, 0.58, -0.39, 0.52).normalized().matrix(),\n",
    "                np.array([1.2, .4, .7]))\n",
    "viz.addBox('goal', [.1,.1,.1], [ .1,.1,.5, .6] )\n",
    "viz.applyConfiguration('goal',o_Mgoal)\n",
    "\n",
    "# Robot initial configuration.\n",
    "q0 = np.array([ 0.  ,  0.  ,  1.  ,  0.  ,  0.18,  1.37, -0.24, -0.98,  0.98,\n",
    "                0.  ,  0.  ,  0.  ,  0.  , -0.13,  0.  ,  0.  ,  0.  ,  0.  ])\n",
    "viz.display(q0)\n",
    "pin.framesForwardKinematics(robot.model,robot.data,q0)\n",
    "# Then get the position\n",
    "o_Mtool_start = robot.data.oMf[IDX_TOOL]\n",
    "viz.delete(\"start\")\n",
    "viz.addBox('start', [.1,.1,.1], [ 1.,.1,.5, .6] )\n",
    "viz.applyConfiguration('start',o_Mtool_start)\n"
   ]
  },
  {
   "cell_type": "code",
   "execution_count": 16,
   "metadata": {},
   "outputs": [],
   "source": [
    "viz.display(q0)\n",
    "for i in range(10000): \n",
    "    viz.delete(f\"debug/traj{i}\")\n",
    "    viz.delete(f\"debug/traj_gaze{i}\")\n",
    "viz.delete(\"current_6D\")\n",
    "viz.delete(\"gaze\")\n",
    "# viz.viewer.jupyter_cell()"
   ]
  },
  {
   "cell_type": "markdown",
   "metadata": {},
   "source": [
    "Controlling this point can be done by achieving a simple variation of the control law for positioning (3d) the robot tool."
   ]
  },
  {
   "cell_type": "code",
   "execution_count": 18,
   "metadata": {},
   "outputs": [],
   "source": [
    "# CONTROLLING THE GAZE ONLY\n",
    "viz.display(q0)\n",
    "for i in range(10000): \n",
    "    viz.delete(f\"debug/traj{i}\")\n",
    "    viz.delete(f\"debug/traj_gaze{i}\")\n",
    "viz.delete(\"current_6D\")\n",
    "q = q0.copy()\n",
    "\n",
    "DT = 1e-2\n",
    "herr = [] # Log the value of the error between tool and goal.\n",
    "IDX_SELEC = IDX_TOOL\n",
    "for i in range(2000):  # Integrate over 2 second of robot life\n",
    "    pin.framesForwardKinematics(robot.model, robot.data, q)  # update Forward kinematic\n",
    "    \n",
    "    o_MGaze = robot.data.oMf[IDX_GAZE].copy()\n",
    "    o_JGaze3 = pin.computeFrameJacobian(robot.model, robot.data, q, IDX_GAZE, pin.WORLD)[:3, :]\n",
    "    o_GazeGoal = o_Mgazegoal.translation - o_MGaze.translation\n",
    "    vq_gaze = np.linalg.pinv(o_JGaze3) @ o_GazeGoal[:3]\n",
    "    q = pin.integrate(robot.model, q, vq_gaze*DT)\n",
    "    viz.display(q)\n",
    "    time.sleep(0.5e-4)\n",
    "    if (i<100 and i%5==0) or (i>=100 and i%50 == 0) and np.linalg.norm(tool_w)>0.05:\n",
    "        viz.delete(f\"debug/traj_gaze{i}\")\n",
    "        viz.addBox(f\"debug/traj_gaze{i}\", [0.02,.02,.02], [ 1. ,0., 0.5, 0.4] )\n",
    "        viz.applyConfiguration(f\"debug/traj_gaze{i}\",o_MGaze)\n",
    "    herr.append(tool_w) \n",
    "\n",
    "viz.delete(\"gaze\")\n",
    "viz.addBox('gaze', [.11,.11,.11], [ 1. ,1.,0., 0.6] )\n",
    "viz.applyConfiguration('gaze',o_MGaze)\n"
   ]
  },
  {
   "cell_type": "markdown",
   "metadata": {},
   "source": [
    "![](figures/inverse_kinematics_gaze_task.png)\n",
    "\n",
    "Hey you!"
   ]
  },
  {
   "cell_type": "markdown",
   "metadata": {},
   "source": [
    "## Some \"empirical\" exploratory attempt without maths, just trying to merging the 2 tasks by averaging the gradients.\n",
    "\n",
    "![](figures/inverse_kinematics_2task_handcrafted.png)"
   ]
  },
  {
   "cell_type": "code",
   "execution_count": 12,
   "metadata": {},
   "outputs": [],
   "source": [
    "# SKIP ME!\n",
    "if False:\n",
    "    viz.display(q0)\n",
    "    for i in range(10000): \n",
    "        viz.delete(f\"debug/traj{i}\")\n",
    "        viz.delete(f\"debug/traj_gaze{i}\")\n",
    "    viz.delete(\"current_6D\")\n",
    "    q = q0.copy()\n",
    "\n",
    "    DT = 5e-2\n",
    "    herr = [] # Log the value of the error between tool and goal.\n",
    "    IDX_SELEC = IDX_TOOL\n",
    "    for i in range(4000):  # Integrate over 2 second of robot life\n",
    "        pin.framesForwardKinematics(robot.model, robot.data, q)  # update Forward kinematic\n",
    "        o_Mtool = robot.data.oMf[IDX_SELEC].copy()    \n",
    "        tool_Jtool = pin.computeFrameJacobian(robot.model, robot.data, q, IDX_SELEC, pin.LOCAL)\n",
    "        toolMgoal = o_Mtool.inverse() * o_Mgoal\n",
    "        tool_w = pin.log(toolMgoal).vector\n",
    "        vq_tool = np.linalg.pinv(tool_Jtool) @ tool_w\n",
    "\n",
    "        o_MGaze = robot.data.oMf[IDX_GAZE].copy()\n",
    "        o_JGaze3 = pin.computeFrameJacobian(robot.model, robot.data, q, IDX_GAZE, pin.WORLD)[:3, :]\n",
    "        o_GazeGoal = o_Mgazegoal.translation - o_MGaze.translation\n",
    "        vq_gaze = np.linalg.pinv(o_JGaze3) @ o_GazeGoal[:3]\n",
    "        # q = pin.integrate(robot.model, q, vq_gaze*DT)\n",
    "        q = pin.integrate(robot.model, q, (0.5*vq_gaze+0.5*vq_tool)*DT)\n",
    "        viz.display(q)\n",
    "        time.sleep(0.5e-4)\n",
    "        if (i<100 and i%5==0) or (i>=100 and i%50 == 0) and np.linalg.norm(tool_w)>0.05:\n",
    "            viz.delete(f\"debug/traj{i}\")\n",
    "            viz.addBox(f\"debug/traj{i}\",  [0.08,.05,.05], [ 1. ,0., 1., 0.2]  )\n",
    "            viz.applyConfiguration(f\"debug/traj{i}\",o_Mtool)\n",
    "            viz.delete(f\"debug/traj_gaze{i}\")\n",
    "            viz.addBox(f\"debug/traj_gaze{i}\", [0.02,.02,.02], [ 1. ,0., 0.5, 0.4] )\n",
    "            viz.applyConfiguration(f\"debug/traj_gaze{i}\",o_MGaze)\n",
    "        herr.append(tool_w) \n",
    "\n",
    "    viz.delete(\"current_6D\")\n",
    "    viz.addBox('current_6D', [.11,.11,.11], [ 1. ,1.,0., 0.6] )\n",
    "    viz.applyConfiguration('current_6D',o_Mtool)\n"
   ]
  },
  {
   "cell_type": "markdown",
   "metadata": {},
   "source": [
    "#### Multi-tasking\n",
    "\n",
    "We now have two tasks: \n",
    "- $(e_1, J_1)$ for controlling the tool placement\n",
    "- $(e_2, J_2)$ for controlling the gaze position. \n",
    "\n",
    "We can use the previous derivation to compute the optimal (in a least square sense) control for task 1:\n",
    "\n",
    "$$\n",
    "vq_1 = J_1^+ v_1^*\n",
    "$$\n",
    "\n",
    "We may now add to $vq_1$ any vector that lies is in the nullspace of $J_1$ to perform the second task. We thus search for $vq = vq_1 + dvq$, \n",
    "> where $dvq$ gives an optimal control for task 2.\n",
    "\n",
    "The orthogonal nullspace projector of $J_1$ can be computed using the pseudoinverse:\n",
    "\n",
    "$$\n",
    "P_1 = I_{nq} - J_1^+ J_1\n",
    "$$\n",
    "\n",
    "Finally, the control law to perform task 2 in the nullspace of task 1 is:\n",
    "\n",
    "$$\n",
    "vq_2 = vq_1 + (J_2 P_1)^+ ( v_2^* - J_2 vq_1)\n",
    "$$\n",
    "\n",
    "You can now implement a control law solving the two tasks, that is, positioning the tool while controlling the gaze. Use $dvq$ as a solution to the minimisation problem:\n",
    "\n",
    "$$\n",
    "\\min_{x\\in Ker(J_1)} \\|J_2 (vq_1 + x) - v_2^*\\|_2^2\n",
    "$$\n"
   ]
  },
  {
   "cell_type": "code",
   "execution_count": 34,
   "metadata": {},
   "outputs": [
    {
     "data": {
      "text/plain": [
       "array([0.49408946, 0.02832298, 0.23853923, 0.        , 0.        ,\n",
       "       0.        ])"
      ]
     },
     "execution_count": 34,
     "metadata": {},
     "output_type": "execute_result"
    }
   ],
   "source": [
    "np.linalg.pinv(o_JGaze @ p1) # OK\n",
    "np.linalg.pinv(o_JGaze @ p1).shape\n",
    "np.concatenate([\n",
    "    o_GazeGoal -  (o_JGaze@vq_tool)[:3], # OK,\n",
    "    np.zeros(3)\n",
    "])"
   ]
  },
  {
   "cell_type": "code",
   "execution_count": 42,
   "metadata": {},
   "outputs": [],
   "source": [
    "def reset(viz):\n",
    "    viz.display(q0)\n",
    "    for i in range(2000): \n",
    "        viz.delete(f\"debug/traj{i}\")\n",
    "        viz.delete(f\"debug/traj_gaze{i}\")\n",
    "    viz.delete(\"current_6D\")\n",
    "    viz.delete(\"gaze\")\n",
    "reset(viz)"
   ]
  },
  {
   "cell_type": "code",
   "execution_count": 53,
   "metadata": {},
   "outputs": [],
   "source": [
    "reset(viz)\n",
    "q = q0.copy()\n",
    "\n",
    "DT = 5e-2\n",
    "herr = [] # Log the value of the error between tool and goal.\n",
    "herr2 = [] # Log the value of the error between gaze and ball.\n",
    "for i in range(200):  # Integrate over 2 second of robot life\n",
    "    pin.framesForwardKinematics(robot.model, robot.data, q)  # update Forward kinematic\n",
    "    o_Mtool = robot.data.oMf[IDX_TOOL].copy()    \n",
    "    tool_Jtool = pin.computeFrameJacobian(robot.model, robot.data, q, IDX_TOOL, pin.LOCAL)\n",
    "    toolMgoal = o_Mtool.inverse() * o_Mgoal\n",
    "    tool_w = pin.log(toolMgoal).vector\n",
    "    tool_Jtool_inv = np.linalg.pinv(tool_Jtool)\n",
    "    vq_tool = tool_Jtool_inv @ tool_w\n",
    "    # vq1\n",
    "    p1 = np.eye(robot.nv) - tool_Jtool_inv@ tool_Jtool  # Projector \n",
    "\n",
    "\n",
    "\n",
    "    o_MGaze = robot.data.oMf[IDX_GAZE].copy()\n",
    "    o_JGaze = pin.computeFrameJacobian(robot.model, robot.data, q, IDX_GAZE, pin.WORLD)\n",
    "    o_JGaze3 = o_JGaze[:3, :]\n",
    "    o_GazeGoal = o_Mgazegoal.translation - o_MGaze.translation\n",
    "    error_2 = np.concatenate([\n",
    "        o_GazeGoal -  (o_JGaze@vq_tool)[:3],\n",
    "        np.zeros(3)\n",
    "    ])\n",
    "    vq_gaze = vq_tool + np.linalg.pinv(o_JGaze @ p1) @ error_2\n",
    "\n",
    "\n",
    "    q = pin.integrate(robot.model, q, vq_gaze*DT)\n",
    "    herr.append(tool_w)\n",
    "    herr2.append(o_GazeGoal)\n",
    "\n",
    "    viz.display(q)\n",
    "    time.sleep(1e-3)\n",
    "    if (i<100 and i%2==0) or (i>=100 and i%10 == 0) and np.linalg.norm(tool_w)>0.05:\n",
    "        viz.delete(f\"debug/traj{i}\")\n",
    "        viz.addBox(f\"debug/traj{i}\",  [0.08,.05,.05], [ 1. ,0., 1., 0.2]  )\n",
    "        viz.applyConfiguration(f\"debug/traj{i}\",o_Mtool)\n",
    "        viz.delete(f\"debug/traj_gaze{i}\")\n",
    "        viz.addBox(f\"debug/traj_gaze{i}\", [0.02,.02,.02], [ 1. ,0., 0.5, 0.4] )\n",
    "        viz.applyConfiguration(f\"debug/traj_gaze{i}\",o_MGaze)\n",
    "\n",
    "\n",
    "\n",
    "viz.delete(\"current_6D\")\n",
    "viz.addBox('current_6D', [.11,.11,.11], [ 1. ,1.,0., 0.6] )\n",
    "viz.applyConfiguration('current_6D',o_Mtool)"
   ]
  },
  {
   "cell_type": "code",
   "execution_count": 54,
   "metadata": {},
   "outputs": [
    {
     "data": {
      "image/png": "[encoded data removed]",
      "text/plain": [
       "<Figure size 640x480 with 3 Axes>"
      ]
     },
     "metadata": {},
     "output_type": "display_data"
    }
   ],
   "source": [
    "plt.subplot(311)\n",
    "plt.plot([ e[:3] for e in herr])\n",
    "plt.xlabel('control cycle (iter)')\n",
    "plt.ylabel('error (m)')\n",
    "plt.subplot(312)\n",
    "plt.plot([ e[3:] for e in herr])\n",
    "plt.xlabel('control cycle (iter)')\n",
    "plt.ylabel('error (rad)');\n",
    "plt.subplot(313)\n",
    "plt.plot([ e for e in herr2])\n",
    "plt.xlabel('control cycle (iter)')\n",
    "plt.ylabel('error (rad)');\n"
   ]
  },
  {
   "cell_type": "markdown",
   "metadata": {},
   "source": [
    "## Extension"
   ]
  },
  {
   "cell_type": "markdown",
   "metadata": {},
   "source": [
    "A third task can be implemented as well by computing the null space of the two first tasks:"
   ]
  },
  {
   "cell_type": "code",
   "execution_count": null,
   "metadata": {},
   "outputs": [],
   "source": [
    "Pgaze = Ptool - pinv(o_Jgaze3 @ Ptool) @ o_Jgaze3 @ Ptool"
   ]
  },
  {
   "cell_type": "markdown",
   "metadata": {},
   "source": [
    "\n",
    "Load an extra cube in the viewer to figure a table. First control the robot hand to reach an arbitrary point on the table (don't mind for the collision). Then implement a control law to control three tasks:\n",
    "* the tool frame should be kept on the table (i.e. only the z component of the error matter, select only the 3rd row of the matrix).\n",
    "* the gaze should be control to reach the position of a ball object positionned on the table.\n",
    "* the center of the basis frame should reach a given target on the floor. For this task, only the x- and y- component of the task matter, select only the 2 first rows.\n"
   ]
  },
  {
   "cell_type": "code",
   "execution_count": null,
   "metadata": {},
   "outputs": [],
   "source": [
    "# Your code"
   ]
  }
 ],
 "metadata": {
  "kernelspec": {
   "display_name": "Python 3 (ipykernel)",
   "language": "python",
   "name": "python3"
  },
  "language_info": {
   "codemirror_mode": {
    "name": "ipython",
    "version": 3
   },
   "file_extension": ".py",
   "mimetype": "text/x-python",
   "name": "python",
   "nbconvert_exporter": "python",
   "pygments_lexer": "ipython3",
   "version": "3.10.12"
  }
 },
 "nbformat": 4,
 "nbformat_minor": 4
}
