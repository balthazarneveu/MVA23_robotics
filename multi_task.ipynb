{
 "cells": [
  {
   "cell_type": "code",
   "execution_count": 1,
   "metadata": {},
   "outputs": [],
   "source": [
    "import pinocchio as pin\n",
    "import numpy as np\n",
    "import time\n",
    "from numpy.linalg import pinv,inv,norm,svd,eig\n",
    "from utils.tiago_loader import loadTiago\n",
    "import matplotlib.pylab as plt; plt.ion()\n",
    "from utils.meshcat_viewer_wrapper import MeshcatVisualizer\n",
    "from typing import List, Union, Optional, Tuple"
   ]
  },
  {
   "cell_type": "markdown",
   "metadata": {},
   "source": [
    "Load an extra cube in the viewer to figure a table. First, control the robot hand to reach an arbitrary point on the table (don't worry about collisions). Then, implement a control law to control three tasks:\n",
    "* The tool frame should be kept on the table = **vertical** constraint  (only the vertical component of the error matters, select the third row of the Jacobian and error accordingly).\n",
    "* The gaze should reach the position of a ball positionned on the table.\n",
    "* The center of the mobile base frame should reach a given goal on the floor. For this task, only the horizontal components (x- and y-) of the task matter, select only the first two rows of the Jacobian and error accordingly."
   ]
  },
  {
   "cell_type": "code",
   "execution_count": 2,
   "metadata": {},
   "outputs": [
    {
     "name": "stdout",
     "output_type": "stream",
     "text": [
      "You can open the visualizer by visiting the following URL:\n",
      "http://127.0.0.1:7001/static/\n"
     ]
    }
   ],
   "source": [
    "robot = loadTiago(addGazeFrame=True)\n",
    "viz = MeshcatVisualizer(robot)\n"
   ]
  },
  {
   "cell_type": "code",
   "execution_count": 36,
   "metadata": {},
   "outputs": [],
   "source": [
    "TABLE_HEIGHT = 0.7"
   ]
  },
  {
   "cell_type": "code",
   "execution_count": 50,
   "metadata": {},
   "outputs": [],
   "source": [
    "IDX_GAZE = robot.model.getFrameId('framegaze')\n",
    "IDX_TOOL = robot.model.getFrameId('frametool')\n",
    "IDX_BASIS = robot.model.getFrameId('framebasis')\n",
    "\n",
    "# Add a small ball as a visual target to be reached by the robot\n",
    "# ball = np.array([ 1.2,0.5,1.1 ])\n",
    "ball = np.array([ 1.2,0.5,TABLE_HEIGHT + 0.2])\n",
    "o_Mgazegoal = pin.SE3(np.eye(3), ball)\n",
    "viz.addSphere('ball', .05, [ .8,.1,.5, .8] )\n",
    "viz.applyConfiguration('ball', list(ball)+[0,0,0,1])\n",
    "\n",
    "# Add the target on the floor\n",
    "# basis_target_coordinates = ball + np.array([ 0.5 , 0.2, -ball[-1]])\n",
    "basis_target_coordinates = ball + np.array([-0.2 , -0.2, -ball[-1]])\n",
    "o_M_floorTarget = pin.SE3(np.eye(3), basis_target_coordinates)\n",
    "viz.delete('basis_target')\n",
    "viz.addBox('basis_target', [.1,.1,.4], [ 1.,0.,0., 1.] )\n",
    "viz.applyConfiguration('basis_target',o_M_floorTarget)\n",
    "\n",
    "\n",
    "# Add the table\n",
    "table_coordinates = np.array([ 1., 1., TABLE_HEIGHT])\n",
    "# table_coordinates = np.array([ -1.5, 1., TABLE_HEIGHT])\n",
    "o_Mtable = pin.SE3(np.eye(3), table_coordinates)\n",
    "viz.delete('table')\n",
    "viz.addBox('table', [2. , 2.,.01], [ 1., 1., 1., .5] )\n",
    "viz.applyConfiguration('table',o_Mtable)\n",
    "\n",
    "# Robot initial configuration.\n",
    "q0 = np.array([ 0.  ,  0.  ,  1.  ,  0.  ,  0.18,  1.37, -0.24, -0.98,  0.98,\n",
    "                0.  ,  0.  ,  0.  ,  0.  , -0.13,  0.  ,  0.  ,  0.  ,  0.  ])\n",
    "viz.display(q0)\n",
    "pin.framesForwardKinematics(robot.model,robot.data,q0)\n",
    "# Then get the position\n",
    "o_Mtool_start = robot.data.oMf[IDX_TOOL]\n",
    "viz.delete(\"start\")\n",
    "viz.addBox('start', [.1,.1,.1], [ 1.,.1,.5, .6] )\n",
    "viz.applyConfiguration('start',o_Mtool_start)\n"
   ]
  },
  {
   "cell_type": "code",
   "execution_count": 38,
   "metadata": {},
   "outputs": [],
   "source": [
    "def reset(viz):\n",
    "    viz.display(q0)\n",
    "    for i in range(2000): \n",
    "        viz.delete(f\"debug/traj{i}\")\n",
    "        viz.delete(f\"debug/traj_gaze{i}\")\n",
    "    viz.delete(\"current_6D\")\n",
    "    viz.delete(\"gaze\")\n",
    "reset(viz)"
   ]
  },
  {
   "cell_type": "markdown",
   "metadata": {},
   "source": [
    "### Simple testing the position (1/2/3D) constraint\n",
    "```python\n",
    "# TOOL STAYS ON THE TABLE\n",
    "vq = get_config_velocity_update_translation(q, robot, IDX_TOOL, o_Mtable, constraint=(2,3))\n",
    "\n",
    "# TOOL REACHES THE CENTER OF THE TABLE but not Z\n",
    "vq = get_config_velocity_update_translation(q, robot, IDX_TOOL, o_Mtable, constraints=(0,2))\n",
    "\n",
    "# BASIS REACHES 2D XY TARGET\n",
    "vq = get_config_velocity_update_translation(q, robot, IDX_BASIS, o_M_floorTarget, constraint=(0,2))\n",
    "```"
   ]
  },
  {
   "cell_type": "markdown",
   "metadata": {},
   "source": [
    "$ P_1 = I_{nq} - J_1^+ J_1 $\n",
    "\n",
    "> copyright: someone helped!\n",
    "\n",
    "$ P_2 = P_1 - {(J_2 P_1)}^+ {J_2 P_1} $"
   ]
  },
  {
   "cell_type": "code",
   "execution_count": 72,
   "metadata": {},
   "outputs": [],
   "source": [
    "def extract_dim(vec: np.ndarray, start:int, end:int) -> np.ndarray:\n",
    "    return vec[start:end, ...]\n",
    "\n",
    "def get_config_velocity_update_translation(\n",
    "    q: np.ndarray,\n",
    "    rob: pin.RobotWrapper,\n",
    "    index_object: int,\n",
    "    o_Mtarget: pin.SE3,\n",
    "    constraints: Tuple[int, int] =(0, 3)\n",
    ") -> Tuple[np.ndarray, np.ndarray]:\n",
    "    \"\"\"Make a step toward the constrained position for object\n",
    "    `index_object`\n",
    "    \"\"\"\n",
    "    o_Mcurrent = rob.data.oMf[index_object]\n",
    "    obj_Jobj = pin.computeFrameJacobian(rob.model, rob.data, q, index_object, pin.WORLD)\n",
    "    obj_JobjC = extract_dim(obj_Jobj, *constraints) # constrain over specific dimension\n",
    "    obj_2_goal = (o_Mtarget.translation - o_Mcurrent.translation)\n",
    "    obj_2_goalC = extract_dim(obj_2_goal, *constraints) # constrain over specific dimension\n",
    "    obj_JobjC_inv = np.linalg.pinv(obj_JobjC)\n",
    "    vq = obj_JobjC_inv @ obj_2_goalC\n",
    "    projector = np.eye(robot.nv) - obj_JobjC_inv @ obj_JobjC\n",
    "    return vq, projector\n",
    "\n",
    "\n",
    "def get_config_velocity_update_translation_with_proj(\n",
    "    q: np.ndarray,\n",
    "    rob: pin.RobotWrapper,\n",
    "    index_object: int,\n",
    "    o_Mtarget: pin.SE3,\n",
    "    constraints: Tuple[int, int] =(0, 3),\n",
    "    projector: np.ndarray=None,\n",
    "    vq_prev: np.ndarray=None\n",
    ") -> Tuple[np.ndarray, np.ndarray]:\n",
    "    \n",
    "    o_Mcurrent = rob.data.oMf[index_object]\n",
    "    obj_Jobj = pin.computeFrameJacobian(rob.model, rob.data, q, index_object, pin.WORLD)\n",
    "    obj_JobjC = extract_dim(obj_Jobj, *constraints) # constrain over specific dimension\n",
    "    obj_2_goal = (o_Mtarget.translation - o_Mcurrent.translation) # v2*\n",
    "    obj_2_goalC = extract_dim(obj_2_goal, *constraints) # constrain over specific dimension\n",
    "    \n",
    "    new_error = (obj_2_goalC-obj_JobjC@vq_prev)\n",
    "    jac_with_proj = obj_JobjC @ projector\n",
    "    inv_jac_with_proj = np.linalg.pinv(jac_with_proj) # pinv(J2@P1)\n",
    "    vq = vq_prev + inv_jac_with_proj @ new_error\n",
    "\n",
    "    new_proj = projector - inv_jac_with_proj@jac_with_proj    \n",
    "    return vq, new_proj\n",
    "\n"
   ]
  },
  {
   "cell_type": "code",
   "execution_count": 73,
   "metadata": {},
   "outputs": [],
   "source": [
    "# reset(viz)\n",
    "q = q0.copy()\n",
    "viz.display(q0)\n",
    "\n",
    "DT = 1e-2\n",
    "goals = [1, 2, 3]\n",
    "# goals = [1, 2] #OK \n",
    "# goals = [1, 3]\n",
    "for i in range(1000):  # Integrate over 2 second of robot life\n",
    "    pin.framesForwardKinematics(robot.model, robot.data, q)  # update Forward kinematic\n",
    "\n",
    "    # TOOL ON THE TABLE Z=[2:3]\n",
    "    vq, p = get_config_velocity_update_translation(\n",
    "        q, robot,\n",
    "        IDX_TOOL, o_Mtable, constraints=(2,3)\n",
    "    )\n",
    "\n",
    "    # BASIS TOWARD THE CHECKPOINT ON THE FLOOR XY =[0:2]\n",
    "    if 2 in goals:\n",
    "        vq, p = get_config_velocity_update_translation_with_proj(\n",
    "            q, robot, \n",
    "            IDX_BASIS, o_M_floorTarget, constraints=(0,2),\n",
    "            vq_prev=vq, projector=p\n",
    "        )\n",
    "\n",
    "    # GAZE TOWARD THE BALL XYZ =[0:3]\n",
    "    if 3 in goals:\n",
    "        vq, p = get_config_velocity_update_translation_with_proj(\n",
    "            q, robot, \n",
    "            IDX_GAZE, o_Mgazegoal, constraints=(0,3),\n",
    "            vq_prev=vq, projector=p\n",
    "        )\n",
    "\n",
    "    q = pin.integrate(robot.model, q, vq*DT)\n",
    "    viz.display(q)"
   ]
  },
  {
   "cell_type": "code",
   "execution_count": null,
   "metadata": {},
   "outputs": [],
   "source": [
    "# vq, p = get_config_velocity_update_translation(\n",
    "#     q, robot,\n",
    "#     IDX_GAZE, o_Mgazegoal, constraints=(0,3)\n",
    "# )\n"
   ]
  },
  {
   "cell_type": "markdown",
   "metadata": {},
   "source": [
    "------------------------"
   ]
  },
  {
   "cell_type": "markdown",
   "metadata": {},
   "source": [
    "Task 1 ONLY"
   ]
  },
  {
   "cell_type": "code",
   "execution_count": 19,
   "metadata": {},
   "outputs": [],
   "source": [
    "# reset(viz)\n",
    "q = q0.copy()\n",
    "viz.display(q0)\n",
    "\n",
    "DT = 5e-2\n",
    "herr = [] # Log the value of the error between tool and goal.\n",
    "herr2 = [] # Log the value of the error between gaze and ball.\n",
    "for i in range(100):  # Integrate over 2 second of robot life\n",
    "    pin.framesForwardKinematics(robot.model, robot.data, q)  # update Forward kinematic\n",
    "    vq, _ = get_config_velocity_update_translation(q, robot, IDX_TOOL, o_Mtable, constraints=(2,3))\n",
    "    q = pin.integrate(robot.model, q, vq*DT)\n",
    "    viz.display(q)"
   ]
  },
  {
   "cell_type": "code",
   "execution_count": null,
   "metadata": {},
   "outputs": [],
   "source": []
  }
 ],
 "metadata": {
  "kernelspec": {
   "display_name": "robotics",
   "language": "python",
   "name": "python3"
  },
  "language_info": {
   "codemirror_mode": {
    "name": "ipython",
    "version": 3
   },
   "file_extension": ".py",
   "mimetype": "text/x-python",
   "name": "python",
   "nbconvert_exporter": "python",
   "pygments_lexer": "ipython3",
   "version": "3.10.12"
  }
 },
 "nbformat": 4,
 "nbformat_minor": 2
}
