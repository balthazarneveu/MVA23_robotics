{
 "cells": [
  {
   "cell_type": "code",
   "execution_count": 8,
   "metadata": {},
   "outputs": [
    {
     "name": "stdout",
     "output_type": "stream",
     "text": [
      "The autoreload extension is already loaded. To reload it, use:\n",
      "  %reload_ext autoreload\n"
     ]
    }
   ],
   "source": [
    "import pinocchio as pin\n",
    "import numpy as np\n",
    "import time\n",
    "from numpy.linalg import pinv,inv,norm,svd,eig\n",
    "from utils.tiago_loader import loadTiago\n",
    "import matplotlib.pylab as plt; plt.ion()\n",
    "from utils.meshcat_viewer_wrapper import MeshcatVisualizer\n",
    "from typing import List, Union, Optional, Tuple\n",
    "\n",
    "from inverse_kinematics_updates import get_config_velocity_update_translation_with_proj\n",
    "%load_ext autoreload\n",
    "%autoreload 2\n"
   ]
  },
  {
   "cell_type": "markdown",
   "metadata": {},
   "source": [
    "Load an extra cube in the viewer to figure a table. First, control the robot hand to reach an arbitrary point on the table (don't worry about collisions). Then, implement a control law to control three tasks:\n",
    "* The tool frame should be kept on the table = **vertical** constraint  (only the vertical component of the error matters, select the third row of the Jacobian and error accordingly).\n",
    "* The gaze should reach the position of a ball positionned on the table.\n",
    "* The center of the mobile base frame should reach a given goal on the floor. For this task, only the horizontal components (x- and y-) of the task matter, select only the first two rows of the Jacobian and error accordingly."
   ]
  },
  {
   "cell_type": "code",
   "execution_count": 2,
   "metadata": {},
   "outputs": [
    {
     "name": "stdout",
     "output_type": "stream",
     "text": [
      "You can open the visualizer by visiting the following URL:\n",
      "http://127.0.0.1:7001/static/\n"
     ]
    }
   ],
   "source": [
    "robot = loadTiago(addGazeFrame=True)\n",
    "viz = MeshcatVisualizer(robot)\n"
   ]
  },
  {
   "cell_type": "code",
   "execution_count": 3,
   "metadata": {},
   "outputs": [],
   "source": [
    "TABLE_HEIGHT = 2."
   ]
  },
  {
   "cell_type": "code",
   "execution_count": 5,
   "metadata": {},
   "outputs": [],
   "source": [
    "IDX_GAZE = robot.model.getFrameId('framegaze')\n",
    "IDX_TOOL = robot.model.getFrameId('frametool')\n",
    "IDX_BASIS = robot.model.getFrameId('framebasis')\n",
    "\n",
    "# Add a small ball as a visual target to be reached by the robot\n",
    "# ball = np.array([ 1.2,0.5,1.1 ])\n",
    "ball = np.array([ 1.2,0.5,TABLE_HEIGHT + 0.2])\n",
    "o_Mgazegoal = pin.SE3(np.eye(3), ball)\n",
    "viz.addSphere('ball', .05, [ .8,.1,.5, .8] )\n",
    "viz.applyConfiguration('ball', list(ball)+[0,0,0,1])\n",
    "\n",
    "# Add the target on the floor\n",
    "# basis_target_coordinates = ball + np.array([ 0.5 , 0.2, -ball[-1]])\n",
    "basis_target_coordinates = ball + np.array([-0.2 , -0.2, -ball[-1]])\n",
    "o_M_floorTarget = pin.SE3(np.eye(3), basis_target_coordinates)\n",
    "viz.delete('basis_target')\n",
    "viz.addBox('basis_target', [.1,.1,.4], [ 1.,0.,0., 1.] )\n",
    "viz.applyConfiguration('basis_target',o_M_floorTarget)\n",
    "\n",
    "\n",
    "# Add the table\n",
    "table_coordinates = np.array([ 1., 1., TABLE_HEIGHT])\n",
    "# table_coordinates = np.array([ -1.5, 1., TABLE_HEIGHT])\n",
    "o_Mtable = pin.SE3(np.eye(3), table_coordinates)\n",
    "viz.delete('table')\n",
    "viz.addBox('table', [2. , 2.,.01], [ 1., 1., 1., .5] )\n",
    "viz.applyConfiguration('table',o_Mtable)\n",
    "\n",
    "# Robot initial configuration.\n",
    "q0 = np.array([ 0.  ,  0.  ,  1.  ,  0.  ,  0.18,  1.37, -0.24, -0.98,  0.98,\n",
    "                0.  ,  0.  ,  0.  ,  0.  , -0.13,  0.  ,  0.  ,  0.  ,  0.  ])\n",
    "viz.display(q0)\n",
    "pin.framesForwardKinematics(robot.model,robot.data,q0)\n",
    "# Then get the position\n",
    "o_Mtool_start = robot.data.oMf[IDX_TOOL]\n",
    "viz.delete(\"start\")\n",
    "viz.addBox('start', [.1,.1,.1], [ 1.,.1,.5, .6] )\n",
    "viz.applyConfiguration('start',o_Mtool_start)\n"
   ]
  },
  {
   "cell_type": "code",
   "execution_count": 6,
   "metadata": {},
   "outputs": [],
   "source": [
    "def reset(viz):\n",
    "    viz.display(q0)\n",
    "    for i in range(2000): \n",
    "        viz.delete(f\"debug/traj{i}\")\n",
    "        viz.delete(f\"debug/traj_gaze{i}\")\n",
    "    viz.delete(\"current_6D\")\n",
    "    viz.delete(\"gaze\")\n",
    "reset(viz)"
   ]
  },
  {
   "cell_type": "markdown",
   "metadata": {},
   "source": [
    "### Simple testing the position (1/2/3D) constraint\n",
    "```python\n",
    "# TOOL STAYS ON THE TABLE\n",
    "vq = get_config_velocity_update_translation(q, robot, IDX_TOOL, o_Mtable, constraint=(2,3))\n",
    "\n",
    "# TOOL REACHES THE CENTER OF THE TABLE but not Z\n",
    "vq = get_config_velocity_update_translation(q, robot, IDX_TOOL, o_Mtable, constraints=(0,2))\n",
    "\n",
    "# BASIS REACHES 2D XY TARGET\n",
    "vq = get_config_velocity_update_translation(q, robot, IDX_BASIS, o_M_floorTarget, constraint=(0,2))\n",
    "```"
   ]
  },
  {
   "cell_type": "markdown",
   "metadata": {},
   "source": [
    "$ P_1 = I_{nq} - J_1^+ J_1 $\n",
    "\n",
    "> copyright: someone helped!\n",
    "\n",
    "$ P_2 = P_1 - {(J_2 P_1)}^+ {J_2 P_1} $"
   ]
  },
  {
   "cell_type": "code",
   "execution_count": 13,
   "metadata": {},
   "outputs": [],
   "source": [
    "# reset(viz)\n",
    "\n",
    "def solve_tasks(\n",
    "    task_list: List[Tuple[int, pin.SE3, Tuple[int, int]]],\n",
    "    DT:float=3e-2,\n",
    "    Niter:int=700,\n",
    "    viz=None,\n",
    "    q_init=q0,\n",
    "    rob=robot\n",
    "):\n",
    "    q = q_init.copy()\n",
    "    viz.display(q_init)\n",
    "\n",
    "    for i in range(Niter):  # Integrate over 2 second of rob life\n",
    "        pin.framesForwardKinematics(rob.model, rob.data, q)  # update Forward kinematic\n",
    "        vq, p = None, None\n",
    "\n",
    "        for frame_id, o_M_target, constraints in task_list:\n",
    "            vq, p = get_config_velocity_update_translation_with_proj(\n",
    "                q, rob, frame_id, o_M_target, constraints=constraints,\n",
    "                vq_prev=vq, projector=p\n",
    "            )\n",
    "        \n",
    "        q = pin.integrate(rob.model, q, vq*DT)\n",
    "        viz.display(q)\n",
    "        time.sleep(1.E-3)\n"
   ]
  },
  {
   "cell_type": "code",
   "execution_count": 14,
   "metadata": {},
   "outputs": [],
   "source": [
    "# TOOL ON THE TABLE Z=[2:3]\n",
    "TASK_1 = (IDX_TOOL, o_Mtable, (2,3))\n",
    "# BASIS TOWARD THE CHECKPOINT ON THE FLOOR XY =[0:2]\n",
    "TASK_2 = (IDX_BASIS, o_M_floorTarget, (0,2))\n",
    "# GAZE TOWARD THE BALL XYZ =[0:3]\n",
    "TASK_3 = (IDX_GAZE, o_Mgazegoal, (0,3))\n",
    "FULL_TASKS = [TASK_1, TASK_2, TASK_3]\n"
   ]
  },
  {
   "cell_type": "code",
   "execution_count": 15,
   "metadata": {},
   "outputs": [],
   "source": [
    "solve_tasks([TASK_1], DT=3e-2, Niter=700, viz=viz, q_init=q0, rob=robot)"
   ]
  },
  {
   "cell_type": "markdown",
   "metadata": {},
   "source": [
    "------------------------"
   ]
  },
  {
   "cell_type": "markdown",
   "metadata": {},
   "source": [
    "Task 1 ONLY"
   ]
  },
  {
   "cell_type": "code",
   "execution_count": null,
   "metadata": {},
   "outputs": [],
   "source": []
  }
 ],
 "metadata": {
  "kernelspec": {
   "display_name": "robotics",
   "language": "python",
   "name": "python3"
  },
  "language_info": {
   "codemirror_mode": {
    "name": "ipython",
    "version": 3
   },
   "file_extension": ".py",
   "mimetype": "text/x-python",
   "name": "python",
   "nbconvert_exporter": "python",
   "pygments_lexer": "ipython3",
   "version": "3.10.12"
  }
 },
 "nbformat": 4,
 "nbformat_minor": 2
}
